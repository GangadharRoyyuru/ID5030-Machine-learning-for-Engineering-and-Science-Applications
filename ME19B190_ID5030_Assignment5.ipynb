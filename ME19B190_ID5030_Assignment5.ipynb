{
  "nbformat": 4,
  "nbformat_minor": 0,
  "metadata": {
    "colab": {
      "provenance": []
    },
    "kernelspec": {
      "name": "python3",
      "display_name": "Python 3"
    },
    "language_info": {
      "name": "python"
    }
  },
  "cells": [
    {
      "cell_type": "code",
      "execution_count": 135,
      "metadata": {
        "id": "YhpTBO1RyBa_"
      },
      "outputs": [],
      "source": [
        "import numpy as np\n",
        "import matplotlib.pyplot as plt\n",
        "from sklearn.metrics import mean_squared_error as MSE_\n",
        "from sklearn.metrics import r2_score as r2"
      ]
    },
    {
      "cell_type": "code",
      "source": [
        "class activation_functions:\n",
        "\n",
        "  @staticmethod\n",
        "  def sigmoid(arr):\n",
        "    \n",
        "    return np.clip(1/(1+np.exp(-arr)), 1e-9,1e9)\n",
        "\n",
        "  @staticmethod\n",
        "  def deri_sigmoid(arr):\n",
        "    return arr*(1-arr)\n",
        "\n",
        "  @staticmethod\n",
        "  def relu(arr):\n",
        "    arr = np.array(arr)\n",
        "    return np.maximum(0,arr)\n",
        "\n",
        "  @staticmethod\n",
        "  def deri_relu(arr):\n",
        "    arr = np.array(arr)\n",
        "    deri = np.array([0 if ele <=0 else 1 for ele in arr])\n",
        "    return deri\n",
        "  \n",
        "  @staticmethod\n",
        "  def linear(arr):\n",
        "    arr = np.array(arr)\n",
        "    return arr\n",
        "    \n",
        "  @staticmethod\n",
        "  def softmax(arr):\n",
        "    arr = np.array(arr)\n",
        "    return np.array([np.exp(a)/(np.exp(a).sum()) for a in arr])\n",
        " "
      ],
      "metadata": {
        "id": "Qp-2th1Vzgp1"
      },
      "execution_count": 86,
      "outputs": []
    },
    {
      "cell_type": "code",
      "source": [
        "#defining a layer in the neural network\n",
        "class layer:\n",
        "  def __init__(self, num_neurons,input_size, activation = activation_functions.sigmoid):\n",
        "    self.num_neurons = num_neurons\n",
        "    self.weights     = np.random.uniform(size =(input_size,num_neurons))\n",
        "    self.biases      = np.random.uniform(size =(1,num_neurons))\n",
        "    self.activation  = activation\n",
        "    self.input_size  = input_size\n",
        "\n",
        "  def forward(self,input):\n",
        "    a = np.dot(input,self.weights)+self.biases   #try replacing with self.weights.T\n",
        "    h = self.activation(a)\n",
        "    return a, h"
      ],
      "metadata": {
        "id": "lk7G4YzRyEIj"
      },
      "execution_count": 87,
      "outputs": []
    },
    {
      "cell_type": "code",
      "source": [
        "#various loss functions\n",
        "class Loss:\n",
        "  @staticmethod\n",
        "  def cross_entropy(y_true, y_pred):\n",
        "\n",
        "    y_true = np.clip(y_true,1e-9,1-1e-9)\n",
        "    loss = (y_true*np.log(y_pred)).sum(axis = 1).flatten()\n",
        "    \n",
        "    return -1*loss\n",
        "  \n",
        "  @staticmethod\n",
        "  def mse(y_true,y_pred):\n",
        "    y_true = np.array(y_true)\n",
        "    y_pred = np.array(y_pred)\n",
        "    loss   = 0.5*np.dot((y_true-y_pred).T,(y_true-y_pred))/len(y_true)\n",
        "    \n",
        "    return loss.squeeze()"
      ],
      "metadata": {
        "id": "g1ED1R9g5yGn"
      },
      "execution_count": 88,
      "outputs": []
    },
    {
      "cell_type": "code",
      "source": [
        "#implementation of neural network from scratch\n",
        "class NeuralNetwork:\n",
        "  \n",
        "  def __init__(self,X,y,num_layers,num_neurons_each_layer,activation_layers, task = 'regression'):\n",
        "    self.num_layers              = num_layers   #number of layers in neural network\n",
        "    self.num_neurons_each_layer  = num_neurons_each_layer  # array specifying number of neurons in each layer starting from hidden layer to output layer\n",
        "    self.activation_layers       = activation_layers   #activation function at each layer\n",
        "    self.task                    = task               #string specifying if the neural network is used for classification or regression, for this assignment we stick only to regression  \n",
        "    self.input                   = np.array(X)        #input array\n",
        "    self.output                  = np.array(y)        #output array  \n",
        "    self.input_shape             = self.input.shape[-1] \n",
        "    self.initialize_layers()                         \n",
        "\n",
        "  def initialize_layers(self):  #function that initializes all layers\n",
        "\n",
        "    self.layers = [[]]* self.num_layers\n",
        "\n",
        "    for i in range(self.num_layers):\n",
        "      if i ==0:\n",
        "        self.layers[i] = layer(self.num_neurons_each_layer[i],self.input_shape,self.activation_layers[i])\n",
        "      else:\n",
        "        self.layers[i] = layer(self.num_neurons_each_layer[i],self.num_neurons_each_layer[i-1],self.activation_layers[i])\n",
        "\n",
        "  def forward_propagation(self,x):  #implementation og forward propagation \n",
        "    a_k, h_k =   [[]]* self.num_layers , [[]]* self.num_layers   #h_k[-1] is output\n",
        "    \n",
        "    for i in range(self.num_layers):\n",
        "      if i ==0:\n",
        "        a_k[i], h_k[i] = self.layers[i].forward(x)   #input shape (d,)  therefore shape of a_k,h_k will be some (l,)\n",
        "      else:\n",
        "        a_k[i], h_k[i] = self.layers[i].forward(h_k[i-1])\n",
        "\n",
        "    return a_k, h_k\n",
        "\n",
        "  def backward_propagation(self,alpha = 0.01,num_iter = 1000): #implementation of backpropagation\n",
        "    loss = []\n",
        "    for epoch in range(num_iter):\n",
        "        if self.task == 'regression':\n",
        "        \n",
        "          if self.activation_layers[-1] == activation_functions.sigmoid:\n",
        "            a_k,h_k = self.forward_propagation(self.input)\n",
        "            y_pred  = h_k[-1]\n",
        "            y_true  = self.output\n",
        "            grad_L_wrt_ak,e_k = [[]]*self.num_layers,[[]]*(self.num_layers)\n",
        "            grad_L_wrt_wk,grad_L_wrt_bk  = [[]]*(self.num_layers), [[]]*(self.num_layers)\n",
        "            e_k[self.num_layers-1] = -1*(self.output - y_pred)                   #error of output layer\n",
        "            grad_L_wrt_ak[self.num_layers-1] = e_k[self.num_layers-1] * activation_functions.deri_sigmoid(y_pred)\n",
        "            curr_layer = self.num_layers-1\n",
        "\n",
        "            while curr_layer>=0:\n",
        "                \n",
        "                if curr_layer == 0:\n",
        "                  grad_L_wrt_wk[curr_layer] = self.input.T.dot(grad_L_wrt_ak[curr_layer])    \n",
        "                  grad_L_wrt_bk[curr_layer] = np.sum(grad_L_wrt_ak[curr_layer],axis=0,keepdims = True)          \n",
        "                else:\n",
        "                  \n",
        "                  grad_L_wrt_wk[curr_layer] = h_k[curr_layer-1].T.dot(grad_L_wrt_ak[curr_layer])    \n",
        "                  grad_L_wrt_bk[curr_layer] =  np.sum(grad_L_wrt_ak[curr_layer],axis=0,keepdims = True)  \n",
        "                  e_k[curr_layer-1] = grad_L_wrt_ak[curr_layer].dot(self.layers[curr_layer].weights.T)              #currlayer-1\n",
        "                  grad_L_wrt_ak[curr_layer-1] = e_k[curr_layer-1] * activation_functions.deri_sigmoid(h_k[curr_layer-1])\n",
        "\n",
        "                curr_layer = curr_layer-1\n",
        "\n",
        "\n",
        "            for l in range(0,self.num_layers):     #updating the weights\n",
        "                self.layers[l].weights =  self.layers[l].weights - alpha*(grad_L_wrt_wk[l])\n",
        "                self.layers[l].biases  =  self.layers[l].biases - alpha*(grad_L_wrt_bk[l])\n",
        "\n",
        "          curr_loss =  1*self.calculate_loss(self.output,self.predict(self.input))  #calculate loss at each iteration\n",
        "        \n",
        "        loss.append(curr_loss)\n",
        "    return loss  \n",
        "\n",
        "  def calculate_loss(self,y_true,y_pred):\n",
        "    return Loss.mse(y_true,y_pred)\n",
        "\n",
        "  def predict(self,X):  #prediction on given X data matrix\n",
        "    y_pred = []\n",
        "    _,h_k= self.forward_propagation(X)\n",
        "    \n",
        "    return h_k[-1]\n",
        "  def predict_test(self,X):\n",
        "    y = self.predict(X)\n",
        "    return np.array([[1] if i[0]>=0.5  else [0] for i in y])\n",
        "    \n",
        "\n",
        "  \n",
        "\n",
        "\n",
        "\n",
        "\n",
        "\n",
        "\n",
        "\n"
      ],
      "metadata": {
        "id": "il1pyxHD0qg0"
      },
      "execution_count": 89,
      "outputs": []
    },
    {
      "cell_type": "markdown",
      "source": [
        "**Q1** \n",
        "\n",
        "Write python code to implement a neural network with one hidden layer for\n",
        "classifying an XOR gate. Implement the backpropagation algorithm for this\n",
        "case from scratch. Use two neurons for the hidden layer."
      ],
      "metadata": {
        "id": "3dp5X6Vhd5J-"
      }
    },
    {
      "cell_type": "code",
      "source": [
        "#XOR gate\n",
        "#Method1\n",
        "X = np.array([[0,0],[0,1],[1,0],[1,1]])\n",
        "Y = np.array([[0],[1],[1],[0]])            \n",
        "\n",
        "num_iter = 10000\n",
        "alpha = 0.7\n",
        "l_1 = layer(2,2)     #Initializing hidden layer\n",
        "l_2 =  layer(1,2)   #output layer\n",
        "\n",
        "for i in range(num_iter):\n",
        "\n",
        "  a_1,h_1 = l_1.forward(X)\n",
        "  a_o,h_o = l_2.forward(h_1)   \n",
        "\n",
        "  e_o = -1*(Y - h_o)                   #error of output layer\n",
        "  grad_wrt_ao = e_o * activation_functions.deri_sigmoid(h_o)  #gradient with respect to preactivation \n",
        "  grad_wrt_wo = h_1.T.dot(grad_wrt_ao)      #gradient with respect to weights\n",
        "  grad_wrt_bo = np.array(grad_wrt_ao).sum(axis=0) #gradients wrt to biases of output layer\n",
        "   \n",
        "  e_1 = grad_wrt_ao.dot(l_2.weights.T)              #currlayer-1\n",
        "  grad_wrt_a1 = e_1 * activation_functions.deri_sigmoid(h_1)\n",
        "  grad_wrt_w1 = X.T.dot(grad_wrt_a1)\n",
        "  grad_wrt_b1 = np.array(grad_wrt_a1).sum(axis=0)\n",
        "  \n",
        "  #all required gradients are present, update weights \n",
        "  l_2.weights = l_2.weights -  alpha * grad_wrt_wo\n",
        "  l_2.biases =l_2.biases - alpha * grad_wrt_bo\n",
        "  l_1.weights = l_1.weights - alpha * grad_wrt_w1\n",
        "  l_1.biases = l_1.biases - alpha * grad_wrt_b1\n",
        "\n",
        "# Comparing target and real values\n",
        "print(\"True output: \", Y)\n",
        "print(\"Predicted output: \", h_o)\n",
        "\n",
        "#A much more robust approach has been presented below"
      ],
      "metadata": {
        "colab": {
          "base_uri": "https://localhost:8080/"
        },
        "id": "-nmEfOLFmiC_",
        "outputId": "26db4c17-5c5a-4150-f4da-b5a4d919e24b"
      },
      "execution_count": 90,
      "outputs": [
        {
          "output_type": "stream",
          "name": "stdout",
          "text": [
            "True output:  [[0]\n",
            " [1]\n",
            " [1]\n",
            " [0]]\n",
            "Predicted output:  [[0.01598905]\n",
            " [0.98621731]\n",
            " [0.98621261]\n",
            " [0.01427365]]\n"
          ]
        }
      ]
    },
    {
      "cell_type": "code",
      "source": [
        "#implementation of the XOR gate with generalized neural network\n",
        "\n",
        "#Method 2\n",
        "X = np.array([[0,0],[0,1],[1,0],[1,1]])\n",
        "y = np.array([[0],[1],[1],[0]])\n",
        "\n",
        "nn = NeuralNetwork(X,y,2,[2,1],[activation_functions.sigmoid,activation_functions.sigmoid,activation_functions.sigmoid], task = 'regression')\n",
        "loss_iter  = nn.backward_propagation(0.5,10000)\n",
        "print(\"True output: \", y)\n",
        "print(\"Predicted output: \", nn.predict(X))"
      ],
      "metadata": {
        "id": "rKZ3KTjdIKCr",
        "colab": {
          "base_uri": "https://localhost:8080/"
        },
        "outputId": "6f15ced3-43a5-4df0-96ed-386f0045ea38"
      },
      "execution_count": 91,
      "outputs": [
        {
          "output_type": "stream",
          "name": "stdout",
          "text": [
            "True output:  [[0]\n",
            " [1]\n",
            " [1]\n",
            " [0]]\n",
            "Predicted output:  [[0.01932872]\n",
            " [0.98330873]\n",
            " [0.98329787]\n",
            " [0.01731079]]\n"
          ]
        }
      ]
    },
    {
      "cell_type": "code",
      "source": [
        "import matplotlib.pyplot as plt\n",
        "\n",
        "plt.plot(np.arange(10000),loss_iter)\n",
        "plt.xlabel(\"Iterations\")\n",
        "plt.ylabel(\"Loss\")\n",
        "plt.title(\"Neural network implementation from scratch\")"
      ],
      "metadata": {
        "colab": {
          "base_uri": "https://localhost:8080/",
          "height": 313
        },
        "id": "eLxV4bbl0Nmc",
        "outputId": "8880d7ab-2033-4501-f2ef-263a9e7f95ec"
      },
      "execution_count": 92,
      "outputs": [
        {
          "output_type": "execute_result",
          "data": {
            "text/plain": [
              "Text(0.5, 1.0, 'Neural network implementation from scratch')"
            ]
          },
          "metadata": {},
          "execution_count": 92
        },
        {
          "output_type": "display_data",
          "data": {
            "text/plain": [
              "<Figure size 432x288 with 1 Axes>"
            ],
            "image/png": "[encoded data removed]"
          },
          "metadata": {
            "needs_background": "light"
          }
        }
      ]
    },
    {
      "cell_type": "markdown",
      "source": [
        "**Q2**\n",
        "\n",
        "2. Consider the Concrete Compressive Strength dataset from the first\n",
        "assignment ((For the downloading of the dataset please refer to this Link\n",
        "\n",
        "a. Implement a single layer neural network for regression. Write\n",
        "backpropagation from scratch for this case in order to work for an\n",
        "arbitrary number of neurons in the hidden layer. Cross check your\n",
        "implementation by comparing with the Pytorch implementation of the\n",
        "same.\n",
        "\n",
        "b. Perform hyperparameter optimization to determine the appropriate\n",
        "number of neurons. Do a 60-20-20 split of the dataset for training,\n",
        "validation and testing.\n",
        "\n",
        "c. How does the goodness of fit for your optimal neural network\n",
        "compare with the fit obtained for linear and quadratic regression in\n",
        "the earlier assignments?\n",
        "\n",
        "d. Modify your code to accommodate an arbitrary number of layers for\n",
        "a multilayer perceptron. Cross check your implementation by\n",
        "comparing with the Pytorch implementation of the same. Experiment\n",
        "with a few values of number of layers and comment on depth vs\n",
        "width of network.\n"
      ],
      "metadata": {
        "id": "HlAYPMpNTLjN"
      }
    },
    {
      "cell_type": "code",
      "source": [
        "import pandas as pd\n",
        "\n",
        "from sklearn.model_selection import train_test_split\n",
        "from sklearn.preprocessing   import MinMaxScaler"
      ],
      "metadata": {
        "id": "wlJR77hoPgMY"
      },
      "execution_count": 93,
      "outputs": []
    },
    {
      "cell_type": "code",
      "source": [
        "df = pd.read_excel(\"Concrete_Data.xls\")\n",
        "df.head()"
      ],
      "metadata": {
        "colab": {
          "base_uri": "https://localhost:8080/",
          "height": 302
        },
        "id": "LywBhyQDN5_Y",
        "outputId": "f6167dee-a0cc-4178-d68d-39f6a45553bb"
      },
      "execution_count": 94,
      "outputs": [
        {
          "output_type": "execute_result",
          "data": {
            "text/plain": [
              "   Cement (component 1)(kg in a m^3 mixture)  \\\n",
              "0                                      540.0   \n",
              "1                                      540.0   \n",
              "2                                      332.5   \n",
              "3                                      332.5   \n",
              "4                                      198.6   \n",
              "\n",
              "   Blast Furnace Slag (component 2)(kg in a m^3 mixture)  \\\n",
              "0                                                0.0       \n",
              "1                                                0.0       \n",
              "2                                              142.5       \n",
              "3                                              142.5       \n",
              "4                                              132.4       \n",
              "\n",
              "   Fly Ash (component 3)(kg in a m^3 mixture)  \\\n",
              "0                                         0.0   \n",
              "1                                         0.0   \n",
              "2                                         0.0   \n",
              "3                                         0.0   \n",
              "4                                         0.0   \n",
              "\n",
              "   Water  (component 4)(kg in a m^3 mixture)  \\\n",
              "0                                      162.0   \n",
              "1                                      162.0   \n",
              "2                                      228.0   \n",
              "3                                      228.0   \n",
              "4                                      192.0   \n",
              "\n",
              "   Superplasticizer (component 5)(kg in a m^3 mixture)  \\\n",
              "0                                                2.5     \n",
              "1                                                2.5     \n",
              "2                                                0.0     \n",
              "3                                                0.0     \n",
              "4                                                0.0     \n",
              "\n",
              "   Coarse Aggregate  (component 6)(kg in a m^3 mixture)  \\\n",
              "0                                             1040.0      \n",
              "1                                             1055.0      \n",
              "2                                              932.0      \n",
              "3                                              932.0      \n",
              "4                                              978.4      \n",
              "\n",
              "   Fine Aggregate (component 7)(kg in a m^3 mixture)  Age (day)  \\\n",
              "0                                              676.0         28   \n",
              "1                                              676.0         28   \n",
              "2                                              594.0        270   \n",
              "3                                              594.0        365   \n",
              "4                                              825.5        360   \n",
              "\n",
              "   Concrete compressive strength(MPa, megapascals)   \n",
              "0                                         79.986111  \n",
              "1                                         61.887366  \n",
              "2                                         40.269535  \n",
              "3                                         41.052780  \n",
              "4                                         44.296075  "
            ],
            "text/html": [
              "\n",
              "  <div id=\"df-12572115-b7d5-4a95-9275-02aaef0ac2cd\">\n",
              "    <div class=\"colab-df-container\">\n",
              "      <div>\n",
              "<style scoped>\n",
              "    .dataframe tbody tr th:only-of-type {\n",
              "        vertical-align: middle;\n",
              "    }\n",
              "\n",
              "    .dataframe tbody tr th {\n",
              "        vertical-align: top;\n",
              "    }\n",
              "\n",
              "    .dataframe thead th {\n",
              "        text-align: right;\n",
              "    }\n",
              "</style>\n",
              "<table border=\"1\" class=\"dataframe\">\n",
              "  <thead>\n",
              "    <tr style=\"text-align: right;\">\n",
              "      <th></th>\n",
              "      <th>Cement (component 1)(kg in a m^3 mixture)</th>\n",
              "      <th>Blast Furnace Slag (component 2)(kg in a m^3 mixture)</th>\n",
              "      <th>Fly Ash (component 3)(kg in a m^3 mixture)</th>\n",
              "      <th>Water  (component 4)(kg in a m^3 mixture)</th>\n",
              "      <th>Superplasticizer (component 5)(kg in a m^3 mixture)</th>\n",
              "      <th>Coarse Aggregate  (component 6)(kg in a m^3 mixture)</th>\n",
              "      <th>Fine Aggregate (component 7)(kg in a m^3 mixture)</th>\n",
              "      <th>Age (day)</th>\n",
              "      <th>Concrete compressive strength(MPa, megapascals)</th>\n",
              "    </tr>\n",
              "  </thead>\n",
              "  <tbody>\n",
              "    <tr>\n",
              "      <th>0</th>\n",
              "      <td>540.0</td>\n",
              "      <td>0.0</td>\n",
              "      <td>0.0</td>\n",
              "      <td>162.0</td>\n",
              "      <td>2.5</td>\n",
              "      <td>1040.0</td>\n",
              "      <td>676.0</td>\n",
              "      <td>28</td>\n",
              "      <td>79.986111</td>\n",
              "    </tr>\n",
              "    <tr>\n",
              "      <th>1</th>\n",
              "      <td>540.0</td>\n",
              "      <td>0.0</td>\n",
              "      <td>0.0</td>\n",
              "      <td>162.0</td>\n",
              "      <td>2.5</td>\n",
              "      <td>1055.0</td>\n",
              "      <td>676.0</td>\n",
              "      <td>28</td>\n",
              "      <td>61.887366</td>\n",
              "    </tr>\n",
              "    <tr>\n",
              "      <th>2</th>\n",
              "      <td>332.5</td>\n",
              "      <td>142.5</td>\n",
              "      <td>0.0</td>\n",
              "      <td>228.0</td>\n",
              "      <td>0.0</td>\n",
              "      <td>932.0</td>\n",
              "      <td>594.0</td>\n",
              "      <td>270</td>\n",
              "      <td>40.269535</td>\n",
              "    </tr>\n",
              "    <tr>\n",
              "      <th>3</th>\n",
              "      <td>332.5</td>\n",
              "      <td>142.5</td>\n",
              "      <td>0.0</td>\n",
              "      <td>228.0</td>\n",
              "      <td>0.0</td>\n",
              "      <td>932.0</td>\n",
              "      <td>594.0</td>\n",
              "      <td>365</td>\n",
              "      <td>41.052780</td>\n",
              "    </tr>\n",
              "    <tr>\n",
              "      <th>4</th>\n",
              "      <td>198.6</td>\n",
              "      <td>132.4</td>\n",
              "      <td>0.0</td>\n",
              "      <td>192.0</td>\n",
              "      <td>0.0</td>\n",
              "      <td>978.4</td>\n",
              "      <td>825.5</td>\n",
              "      <td>360</td>\n",
              "      <td>44.296075</td>\n",
              "    </tr>\n",
              "  </tbody>\n",
              "</table>\n",
              "</div>\n",
              "      <button class=\"colab-df-convert\" onclick=\"convertToInteractive('df-12572115-b7d5-4a95-9275-02aaef0ac2cd')\"\n",
              "              title=\"Convert this dataframe to an interactive table.\"\n",
              "              style=\"display:none;\">\n",
              "        \n",
              "  <svg xmlns=\"http://www.w3.org/2000/svg\" height=\"24px\"viewBox=\"0 0 24 24\"\n",
              "       width=\"24px\">\n",
              "    <path d=\"M0 0h24v24H0V0z\" fill=\"none\"/>\n",
              "    <path d=\"M18.56 5.44l.94 2.06.94-2.06 2.06-.94-2.06-.94-.94-2.06-.94 2.06-2.06.94zm-11 1L8.5 8.5l.94-2.06 2.06-.94-2.06-.94L8.5 2.5l-.94 2.06-2.06.94zm10 10l.94 2.06.94-2.06 2.06-.94-2.06-.94-.94-2.06-.94 2.06-2.06.94z\"/><path d=\"M17.41 7.96l-1.37-1.37c-.4-.4-.92-.59-1.43-.59-.52 0-1.04.2-1.43.59L10.3 9.45l-7.72 7.72c-.78.78-.78 2.05 0 2.83L4 21.41c.39.39.9.59 1.41.59.51 0 1.02-.2 1.41-.59l7.78-7.78 2.81-2.81c.8-.78.8-2.07 0-2.86zM5.41 20L4 18.59l7.72-7.72 1.47 1.35L5.41 20z\"/>\n",
              "  </svg>\n",
              "      </button>\n",
              "      \n",
              "  <style>\n",
              "    .colab-df-container {\n",
              "      display:flex;\n",
              "      flex-wrap:wrap;\n",
              "      gap: 12px;\n",
              "    }\n",
              "\n",
              "    .colab-df-convert {\n",
              "      background-color: #E8F0FE;\n",
              "      border: none;\n",
              "      border-radius: 50%;\n",
              "      cursor: pointer;\n",
              "      display: none;\n",
              "      fill: #1967D2;\n",
              "      height: 32px;\n",
              "      padding: 0 0 0 0;\n",
              "      width: 32px;\n",
              "    }\n",
              "\n",
              "    .colab-df-convert:hover {\n",
              "      background-color: #E2EBFA;\n",
              "      box-shadow: 0px 1px 2px rgba(60, 64, 67, 0.3), 0px 1px 3px 1px rgba(60, 64, 67, 0.15);\n",
              "      fill: #174EA6;\n",
              "    }\n",
              "\n",
              "    [theme=dark] .colab-df-convert {\n",
              "      background-color: #3B4455;\n",
              "      fill: #D2E3FC;\n",
              "    }\n",
              "\n",
              "    [theme=dark] .colab-df-convert:hover {\n",
              "      background-color: #434B5C;\n",
              "      box-shadow: 0px 1px 3px 1px rgba(0, 0, 0, 0.15);\n",
              "      filter: drop-shadow(0px 1px 2px rgba(0, 0, 0, 0.3));\n",
              "      fill: #FFFFFF;\n",
              "    }\n",
              "  </style>\n",
              "\n",
              "      <script>\n",
              "        const buttonEl =\n",
              "          document.querySelector('#df-12572115-b7d5-4a95-9275-02aaef0ac2cd button.colab-df-convert');\n",
              "        buttonEl.style.display =\n",
              "          google.colab.kernel.accessAllowed ? 'block' : 'none';\n",
              "\n",
              "        async function convertToInteractive(key) {\n",
              "          const element = document.querySelector('#df-12572115-b7d5-4a95-9275-02aaef0ac2cd');\n",
              "          const dataTable =\n",
              "            await google.colab.kernel.invokeFunction('convertToInteractive',\n",
              "                                                     [key], {});\n",
              "          if (!dataTable) return;\n",
              "\n",
              "          const docLinkHtml = 'Like what you see? Visit the ' +\n",
              "            '<a target=\"_blank\" href=https://colab.research.google.com/notebooks/data_table.ipynb>data table notebook</a>'\n",
              "            + ' to learn more about interactive tables.';\n",
              "          element.innerHTML = '';\n",
              "          dataTable['output_type'] = 'display_data';\n",
              "          await google.colab.output.renderOutput(dataTable, element);\n",
              "          const docLink = document.createElement('div');\n",
              "          docLink.innerHTML = docLinkHtml;\n",
              "          element.appendChild(docLink);\n",
              "        }\n",
              "      </script>\n",
              "    </div>\n",
              "  </div>\n",
              "  "
            ]
          },
          "metadata": {},
          "execution_count": 94
        }
      ]
    },
    {
      "cell_type": "code",
      "source": [
        "df.columns"
      ],
      "metadata": {
        "colab": {
          "base_uri": "https://localhost:8080/"
        },
        "id": "9UCFJRG1PBPD",
        "outputId": "0af4ef01-9345-4d99-d90b-567cb74b24a8"
      },
      "execution_count": 95,
      "outputs": [
        {
          "output_type": "execute_result",
          "data": {
            "text/plain": [
              "Index(['Cement (component 1)(kg in a m^3 mixture)',\n",
              "       'Blast Furnace Slag (component 2)(kg in a m^3 mixture)',\n",
              "       'Fly Ash (component 3)(kg in a m^3 mixture)',\n",
              "       'Water  (component 4)(kg in a m^3 mixture)',\n",
              "       'Superplasticizer (component 5)(kg in a m^3 mixture)',\n",
              "       'Coarse Aggregate  (component 6)(kg in a m^3 mixture)',\n",
              "       'Fine Aggregate (component 7)(kg in a m^3 mixture)', 'Age (day)',\n",
              "       'Concrete compressive strength(MPa, megapascals) '],\n",
              "      dtype='object')"
            ]
          },
          "metadata": {},
          "execution_count": 95
        }
      ]
    },
    {
      "cell_type": "code",
      "source": [
        "X = df.drop(columns = ['Concrete compressive strength(MPa, megapascals) '])\n",
        "Y = df['Concrete compressive strength(MPa, megapascals) ']"
      ],
      "metadata": {
        "id": "hZjsgGRAOwHL"
      },
      "execution_count": 96,
      "outputs": []
    },
    {
      "cell_type": "code",
      "source": [
        "X_train,X_test, Y_train, Y_test = train_test_split(X,Y,train_size = 0.6,random_state = 1)\n"
      ],
      "metadata": {
        "id": "L1OSCM6-ONq2"
      },
      "execution_count": 97,
      "outputs": []
    },
    {
      "cell_type": "code",
      "source": [
        "#scaling the data set, ie bringing all the features to the range [0,1]\n",
        "sc = MinMaxScaler()\n",
        "X_train[\"Y\"] = Y_train\n",
        "X_test['Y']   = Y_test\n",
        "X_train_scaled = pd.DataFrame(sc.fit_transform(X_train), columns = X_train.columns)\n",
        "\n",
        "X_test_scaled  = pd.DataFrame(sc.transform(X_test), columns = X_test.columns)\n",
        "\n",
        "Y_train_scaled = X_train_scaled['Y']\n",
        "X_train_scaled  = X_train_scaled.drop(columns = ['Y']) \n",
        "Y_test_scaled = X_test_scaled['Y']\n",
        "X_test_scaled  = X_test_scaled.drop(columns = ['Y']) \n"
      ],
      "metadata": {
        "id": "VNyVECDoPkxj"
      },
      "execution_count": 98,
      "outputs": []
    },
    {
      "cell_type": "code",
      "source": [
        "#get the test and validation sets\n",
        "X_val,X_pred,Y_val,Y_pred = train_test_split(X_test_scaled,Y_test_scaled,train_size = 0.5,random_state = 1)"
      ],
      "metadata": {
        "id": "pWC1_443-Yqg"
      },
      "execution_count": 99,
      "outputs": []
    },
    {
      "cell_type": "code",
      "source": [
        "def do_inverse_transform(y_pred,Y_val):\n",
        "  val = X_val.copy(deep = True)\n",
        "  val['Y'] = y_pred\n",
        "  predictions_val = pd.DataFrame(sc.inverse_transform(val),columns = val.columns)['Y']\n",
        "  val['Y'] = Y_val\n",
        "  true_val = pd.DataFrame(sc.inverse_transform(val),columns = val.columns)['Y']\n",
        "  return true_val, predictions_val"
      ],
      "metadata": {
        "id": "cJtj7BOqcLLO"
      },
      "execution_count": 124,
      "outputs": []
    },
    {
      "cell_type": "markdown",
      "source": [
        "**Q2 a)**"
      ],
      "metadata": {
        "id": "InA-2rTmX4qT"
      }
    },
    {
      "cell_type": "code",
      "source": [
        "#Neural network implementation from scratch\n",
        "#the neural network contains only a single hidden layer and one output layer, making the num_layers = 2 and num_neurons_in_each_layer = [20,1]\n",
        "\n",
        "nn_2 = NeuralNetwork(np.array(X_train_scaled),np.array(Y_train_scaled).reshape(X_train_scaled.shape[0],1),2,[20,1],[activation_functions.sigmoid, activation_functions.sigmoid], task = 'regression')\n",
        "loss_iter  = nn_2.backward_propagation(0.01,10000)"
      ],
      "metadata": {
        "id": "8VUuYoluQbdZ"
      },
      "execution_count": 132,
      "outputs": []
    },
    {
      "cell_type": "code",
      "source": [
        "y_pred = nn_2.predict(np.array(X_val))\n",
        "val = X_val.copy(deep = True)\n",
        "val['Y'] = y_pred\n",
        "predictions_val = pd.DataFrame(sc.inverse_transform(val),columns = val.columns)['Y']\n",
        "val['Y'] = Y_val\n",
        "true_val = pd.DataFrame(sc.inverse_transform(val),columns = val.columns)['Y']\n",
        "mse = nn_2.calculate_loss(np.array(true_val).reshape(X_val.shape[0],1),np.array(predictions_val).reshape(X_val.shape[0],1))\n",
        "r2score = r2(np.array(true_val).reshape(X_val.shape[0],1).squeeze(),predictions_val.squeeze())\n",
        "print('R2-score: ',r2score)\n",
        "print(\"MSE: \",mse)\n",
        "plt.plot(np.arange(10000),loss_iter)\n",
        "plt.title(\"Loss vs iterations\")\n",
        "plt.ylabel('loss with iteration at optimal configuration of MLP')\n",
        "plt.xlabel('iterations')\n",
        "plt.show()"
      ],
      "metadata": {
        "colab": {
          "base_uri": "https://localhost:8080/",
          "height": 331
        },
        "id": "KmFLcJ4xSAcF",
        "outputId": "0fa724bc-4fbb-4534-861f-b42e540743f8"
      },
      "execution_count": 134,
      "outputs": [
        {
          "output_type": "stream",
          "name": "stdout",
          "text": [
            "R2-score:  0.809115554217472\n",
            "MSE:  25.959649827755364\n"
          ]
        },
        {
          "output_type": "display_data",
          "data": {
            "text/plain": [
              "<Figure size 432x288 with 1 Axes>"
            ],
            "image/png": "[encoded data removed]"
          },
          "metadata": {
            "needs_background": "light"
          }
        }
      ]
    },
    {
      "cell_type": "code",
      "source": [
        "#pytorch implementation of a single layer neural network\n",
        "import torch\n",
        "import torch.nn as nn"
      ],
      "metadata": {
        "id": "dDPI91JBSE9F"
      },
      "execution_count": 125,
      "outputs": []
    },
    {
      "cell_type": "code",
      "source": [
        "#Initialize the layers\n",
        "n_input  = len(X_train_scaled.columns)\n",
        "n_hidden = 20  #arbitralily chosen\n",
        "n_out    = 1\n",
        "batch_size = 20\n",
        "learning_rate = 0.5\n"
      ],
      "metadata": {
        "id": "bt8hnYe1UqQG"
      },
      "execution_count": 126,
      "outputs": []
    },
    {
      "cell_type": "code",
      "source": [
        "model_torch = nn.Sequential(nn.Linear(n_input, n_hidden),\n",
        "                      nn.Sigmoid(),\n",
        "                      nn.Linear(n_hidden, n_out))\n",
        "loss_function = nn.MSELoss()\n",
        "optimizer = torch.optim.SGD(model_torch.parameters(), lr=learning_rate)\n",
        "\n",
        "model_torch"
      ],
      "metadata": {
        "colab": {
          "base_uri": "https://localhost:8080/"
        },
        "id": "0b_s0tb2V7b8",
        "outputId": "1ca411ff-1b27-4d75-d76b-c4e2808366ae"
      },
      "execution_count": 127,
      "outputs": [
        {
          "output_type": "execute_result",
          "data": {
            "text/plain": [
              "Sequential(\n",
              "  (0): Linear(in_features=8, out_features=20, bias=True)\n",
              "  (1): Sigmoid()\n",
              "  (2): Linear(in_features=20, out_features=1, bias=True)\n",
              ")"
            ]
          },
          "metadata": {},
          "execution_count": 127
        }
      ]
    },
    {
      "cell_type": "code",
      "source": [
        "X_torch  = torch.tensor(X_train_scaled.values, dtype = torch.float32)\n",
        "Y_torch  =  torch.tensor(Y_train_scaled.values, dtype = torch.float32)\n",
        "loss_iter_torch = []\n",
        "for epoch in range(10000):\n",
        "    pred_y = torch.reshape(model_torch(X_torch), Y_torch.shape)\n",
        "    loss = loss_function(pred_y, Y_torch)\n",
        "    loss_iter_torch.append(loss.item())\n",
        "\n",
        "    model_torch.zero_grad()\n",
        "    loss.backward()\n",
        "\n",
        "    optimizer.step()"
      ],
      "metadata": {
        "id": "JRarAPyPWNVj"
      },
      "execution_count": 128,
      "outputs": []
    },
    {
      "cell_type": "code",
      "source": [
        "from sklearn.metrics import mean_squared_error as MSE_\n",
        "from sklearn.metrics import r2_score as r2\n",
        "\n",
        "X_val_torch  =  torch.tensor(X_val.values, dtype = torch.float32)\n",
        "Y_val_torch  =  torch.tensor(Y_val.values, dtype = torch.float32)\n",
        "y_pred =  torch.reshape(model_torch(X_val_torch), Y_val_torch.shape).detach().numpy()\n",
        "\n",
        "true_val, predictions_val =  do_inverse_transform(y_pred,Y_val)\n",
        "print(\"MSE pytorch: \",MSE_(true_val, predictions_val))\n",
        "print(\"R2 score: \", r2(true_val, predictions_val))\n",
        "\n",
        "import matplotlib.pyplot as plt\n",
        "plt.plot(np.arange(10000),loss_iter_torch)\n",
        "plt.title(\"Loss vs iterations - pytorch implementation\")\n",
        "plt.ylabel('loss with iteration')\n",
        "plt.xlabel('iterations')\n",
        "plt.show()\n"
      ],
      "metadata": {
        "colab": {
          "base_uri": "https://localhost:8080/",
          "height": 331
        },
        "id": "o8yu2FN-WrsA",
        "outputId": "44e628cb-995d-49a2-c53a-b68d625c3d0f"
      },
      "execution_count": 129,
      "outputs": [
        {
          "output_type": "stream",
          "name": "stdout",
          "text": [
            "MSE pytorch:  83.07001251125607\n",
            "R2 score:  0.6945880740963397\n"
          ]
        },
        {
          "output_type": "display_data",
          "data": {
            "text/plain": [
              "<Figure size 432x288 with 1 Axes>"
            ],
            "image/png": "[encoded data removed]"
          },
          "metadata": {
            "needs_background": "light"
          }
        }
      ]
    },
    {
      "cell_type": "markdown",
      "source": [
        "|Metric|Pytorch implementation|Neural network from scratch implementation|\n",
        "|:-------|:-------------------:|:---------------|\n",
        "|R2 score: |0.694588|0.809|\n",
        "|MSE:|83.07001251125607|25.959649827755364|\n",
        "\n"
      ],
      "metadata": {
        "id": "5SNbEum1mni-"
      }
    },
    {
      "cell_type": "markdown",
      "source": [
        "Q2b) \n",
        "\n",
        "Hyperparameter tuning to identify the best set of number of neurons\n",
        "\n"
      ],
      "metadata": {
        "id": "21eIbVtXntNf"
      }
    },
    {
      "cell_type": "code",
      "source": [
        "minmse = np.inf\n",
        "best_alpha,best_num_neurons_hiddenlayer,best_mse,best_loss_iter = None,None,None,None\n",
        "for num_neurons_hiddenlayer in [5,10,20,35,50,100]:\n",
        "  for alpha in [0.01, 0.05, 0.1, 0.15, 0.5, 0.75]:\n",
        "    nn_2 = NeuralNetwork(np.array(X_train_scaled),np.array(Y_train_scaled).reshape(X_train_scaled.shape[0],1),2,[num_neurons_hiddenlayer,1],[activation_functions.sigmoid, activation_functions.sigmoid], task = 'regression')\n",
        "    loss_iter  = nn_2.backward_propagation(alpha,10000)\n",
        "    y_pred = nn_2.predict(np.array(X_val))\n",
        "    #calculate mean squared error\n",
        "    mse = nn_2.calculate_loss(np.array(Y_val).reshape(X_val.shape[0],1),np.array(y_pred).reshape(X_val.shape[0],1))\n",
        "\n",
        "    if mse <minmse:\n",
        "      best_alpha = alpha\n",
        "      best_num_neurons_hiddenlayer = num_neurons_hiddenlayer\n",
        "      best_mse = mse\n",
        "      best_loss_iter = loss_iter \n",
        "      minmse  =mse\n",
        "\n",
        "print(\"Best learning rate: \",best_alpha)\n",
        "print(\"Optimal number of hidden neurons: \",best_num_neurons_hiddenlayer)\n",
        "print(\"Best validation MSE is: \",best_mse)\n",
        "\n",
        "plt.plot(np.arange(10000),best_loss_iter)\n",
        "plt.title(\"Loss vs iterations\")\n",
        "plt.ylabel('loss with iteration at optimal configuration of MLP')\n",
        "plt.xlabel('iterations')\n",
        "plt.show()\n",
        "\n",
        "\n",
        "\n"
      ],
      "metadata": {
        "id": "Iq3gQdhun1at",
        "colab": {
          "base_uri": "https://localhost:8080/",
          "height": 349
        },
        "outputId": "4d09bb20-7007-4b4f-cd85-1101fd5258bc"
      },
      "execution_count": 314,
      "outputs": [
        {
          "output_type": "stream",
          "name": "stdout",
          "text": [
            "Best learning rate:  0.01\n",
            "Optimal number of hidden neurons:  20\n",
            "Best validation MSE is:  0.003948283666541857\n"
          ]
        },
        {
          "output_type": "display_data",
          "data": {
            "text/plain": [
              "<Figure size 432x288 with 1 Axes>"
            ],
            "image/png": "[encoded data removed]"
          },
          "metadata": {
            "needs_background": "light"
          }
        }
      ]
    },
    {
      "cell_type": "markdown",
      "source": [
        "Therefore , the best hyperparameters found are \n",
        "Best learning rate = 0.01\n",
        "\n",
        "Optimal number of hidden layer neurons = 20"
      ],
      "metadata": {
        "id": "O1iRSH5UniP5"
      }
    },
    {
      "cell_type": "markdown",
      "source": [
        "Q2c) \n",
        "Measuring the goodness of fit in comparision with linear and quadratic models"
      ],
      "metadata": {
        "id": "PtMpKHhrNFrz"
      }
    },
    {
      "cell_type": "code",
      "source": [
        "#caluclating and comparing the R2 score\n",
        "from sklearn.metrics import r2_score\n",
        "nn_2 = NeuralNetwork(np.array(X_train_scaled),np.array(Y_train_scaled).reshape(X_train_scaled.shape[0],1),2,[best_num_neurons_hiddenlayer,1],[activation_functions.sigmoid, activation_functions.sigmoid], task = 'regression')\n",
        "loss_iter  = nn_2.backward_propagation(best_alpha,10000)\n",
        "y_pred = nn_2.predict(np.array(X_val))\n",
        "#calculate mean squared error\n"
      ],
      "metadata": {
        "id": "vq_KTVuSFNzj"
      },
      "execution_count": 306,
      "outputs": []
    },
    {
      "cell_type": "code",
      "source": [
        "#perform inverse transform\n",
        "y_pred = nn_2.predict(np.array(X_val))\n",
        "val = X_val.copy(deep = True)\n",
        "val['Y'] = y_pred\n",
        "predictions_val = pd.DataFrame(sc.inverse_transform(val),columns = val.columns)['Y']\n",
        "val['Y'] = Y_val\n",
        "true_val = pd.DataFrame(sc.inverse_transform(val),columns = val.columns)['Y']\n",
        "mse = nn_2.calculate_loss(np.array(true_val).reshape(X_val.shape[0],1),np.array(predictions_val).reshape(X_val.shape[0],1))\n",
        "r2score = r2_score(np.array(true_val).reshape(X_val.shape[0],1).squeeze(),predictions_val.squeeze())\n",
        "print('R2-score: ',r2score)\n",
        "print(\"MSE: \",mse)\n",
        "plt.plot(np.arange(10000),best_loss_iter)\n",
        "plt.title(\"Loss vs iterations\")\n",
        "plt.ylabel('loss with iteration at optimal configuration of MLP')\n",
        "plt.xlabel('iterations')\n",
        "plt.show()"
      ],
      "metadata": {
        "id": "Q5jbmQ4AKmjf"
      },
      "execution_count": 309,
      "outputs": []
    },
    {
      "cell_type": "code",
      "source": [
        "mse = nn_2.calculate_loss(np.array(true_val).reshape(X_val.shape[0],1),np.array(predictions_val).reshape(X_val.shape[0],1))\n",
        "r2score = r2_score(np.array(true_val).reshape(X_val.shape[0],1).squeeze(),predictions_val.squeeze())\n",
        "print('R2-score: ',r2score)\n",
        "print(\"MSE: \",mse)\n",
        "plt.plot(np.arange(10000),best_loss_iter)\n",
        "plt.title(\"Loss vs iterations\")\n",
        "plt.ylabel('loss with iteration at optimal configuration of MLP')\n",
        "plt.xlabel('iterations')\n",
        "plt.show()"
      ],
      "metadata": {
        "colab": {
          "base_uri": "https://localhost:8080/",
          "height": 331
        },
        "id": "iKq9SQ89AyB5",
        "outputId": "f4769df0-b7a2-4894-b27f-18cf3941b7b0"
      },
      "execution_count": 313,
      "outputs": [
        {
          "output_type": "stream",
          "name": "stdout",
          "text": [
            "R2-score:  0.81180167339868\n",
            "MSE:  25.594346551975523\n"
          ]
        },
        {
          "output_type": "display_data",
          "data": {
            "text/plain": [
              "<Figure size 432x288 with 1 Axes>"
            ],
            "image/png": "[encoded data removed]"
          },
          "metadata": {
            "needs_background": "light"
          }
        }
      ]
    },
    {
      "cell_type": "markdown",
      "source": [
        "**Relation between linear, quadratic and Neural network model:**\n",
        "\n",
        "**Mean Squared Error:**\n",
        "\n",
        "|Linear Model|L2 Regularization| Quadratic model|Neural network|\n",
        "|:-------|:-------------------:|:---------------|:-----------|\n",
        "|96.69320796447991|96.44418569825635|61.69988804568226|25.594|\n",
        "\n",
        "\n",
        "**Coefficient of determination(R2 score)**\n",
        "\n",
        "|Linear Model|L2 Regularization| Quadratic model|Neural Network|\n",
        "|:-------|:-------------------:|:---------------|:------|\n",
        "|0.6547|0.6556|0.7796|0.81818|\n",
        "\n",
        "\n",
        "Thus, from the above tabulation it is evident that the Neural network performed far better compared to linear and regularized models."
      ],
      "metadata": {
        "id": "zrr_WH3VKcbK"
      }
    },
    {
      "cell_type": "markdown",
      "source": [
        "Q2 d)\n",
        "\n",
        "Depth vs width of network"
      ],
      "metadata": {
        "id": "PkIG3k4mNRua"
      }
    },
    {
      "cell_type": "code",
      "source": [
        "import time\n",
        "max_neurons_each_layer = [20,40,60,80]\n",
        "max_num_layers         = [2,4,7,10,12]\n",
        "\n",
        "#fix number of neurons to optimal number of neurons and increase the width\n",
        "minmse = np.inf\n",
        "best_mse,best_num_layers,best_loss_iter = None,None,None\n",
        "for num_layers in max_num_layers:\n",
        "    start = time.time()\n",
        "    num_neurons = np.append([[best_num_neurons_hiddenlayer]]*(num_layers-1),[1])\n",
        "    nn_2 = NeuralNetwork(np.array(X_train_scaled),np.array(Y_train_scaled).reshape(X_train_scaled.shape[0],1),num_layers,num_neurons,np.array([activation_functions.sigmoid]*num_layers), task = 'regression')\n",
        "    loss_iter  = nn_2.backward_propagation(best_alpha,10000)\n",
        "    y_pred = nn_2.predict(np.array(X_val))\n",
        "    y_pred_train = nn_2.predict(np.array(X_train_scaled))\n",
        "    #calculate mean squared error\n",
        "    mse = nn_2.calculate_loss(np.array(Y_val).reshape(X_val.shape[0],1),np.array(y_pred).reshape(X_val.shape[0],1))\n",
        "    mse_train = nn_2.calculate_loss(np.array(Y_train_scaled).reshape(X_train_scaled.shape[0],1),np.array(y_pred_train).reshape(X_train_scaled.shape[0],1))\n",
        "    if mse <minmse:\n",
        "      best_mse = mse\n",
        "      best_num_layers = num_layers\n",
        "      best_loss_iter = loss_iter \n",
        "      minmse  =mse\n",
        "    end = time.time()\n",
        "    print(\"current depth: \",num_layers, \" time of computation: \",-start+end, \" MSE validation: \",mse, \" MSE train: \", mse_train)\n",
        "print(\"Optimal number of max_num_layers: \",best_num_layers)\n",
        "print(\"Best validation MSE is: \",best_mse)\n",
        "\n"
      ],
      "metadata": {
        "colab": {
          "base_uri": "https://localhost:8080/"
        },
        "id": "xFwLrEEpNQZI",
        "outputId": "319d1d40-3b43-4cbf-d65f-bbb8660b8158"
      },
      "execution_count": 330,
      "outputs": [
        {
          "output_type": "stream",
          "name": "stdout",
          "text": [
            "current depth:  2  time of computation:  13.405492305755615  MSE validation:  0.004359227685032982  MSE train:  0.0034201302375992926\n",
            "current depth:  4  time of computation:  38.072601079940796  MSE validation:  0.11347808752062531  MSE train:  0.10864962294704542\n",
            "current depth:  7  time of computation:  67.84400200843811  MSE validation:  0.18232988262711083  MSE train:  0.19179665692667328\n",
            "current depth:  10  time of computation:  105.97088694572449  MSE validation:  0.11405895937939467  MSE train:  0.10921107690426207\n",
            "current depth:  12  time of computation:  128.86817455291748  MSE validation:  0.11411288217785158  MSE train:  0.1092632002190915\n",
            "Optimal number of max_num_layers:  2\n",
            "Best validation MSE is:  0.004359227685032982\n"
          ]
        }
      ]
    },
    {
      "cell_type": "code",
      "source": [
        "#fix the number of layers to best numlayers and increase the depth\n",
        "import time\n",
        "\n",
        "minmse = np.inf\n",
        "best_mse,best_hidden_neurons,best_loss_iter = None,None,None\n",
        "\n",
        "for max_neurons in max_neurons_each_layer:\n",
        "    \n",
        "    start = time.time()\n",
        "    num_neurons = np.append([[max_neurons]]*(best_num_layers-1),[1])\n",
        "    nn_2 = NeuralNetwork(np.array(X_train_scaled),np.array(Y_train_scaled).reshape(X_train_scaled.shape[0],1),best_num_layers,num_neurons,np.array([activation_functions.sigmoid]*best_num_layers), task = 'regression')\n",
        "    loss_iter  = nn_2.backward_propagation(best_alpha,10000)\n",
        "    y_pred = nn_2.predict(np.array(X_val))\n",
        "    y_pred_train = nn_2.predict(np.array(X_train_scaled))\n",
        "    #calculate mean squared error\n",
        "    mse = nn_2.calculate_loss(np.array(Y_val).reshape(X_val.shape[0],1),np.array(y_pred).reshape(X_val.shape[0],1))\n",
        "    mse_train = nn_2.calculate_loss(np.array(Y_train_scaled).reshape(X_train_scaled.shape[0],1),np.array(y_pred_train).reshape(X_train_scaled.shape[0],1))\n",
        "    if mse <minmse:\n",
        "      best_mse = mse\n",
        "      best_hidden_neurons = max_neurons\n",
        "      best_loss_iter = loss_iter \n",
        "      minmse  =mse\n",
        "    end = time.time()\n",
        "    print(\"current width: \",max_neurons, \" time of computation: \",-start+end, \" MSE validation: \",mse, \" MSE train: \",mse_train)\n",
        "\n",
        "print(\"Optimal number of max_neurons in each layer: \",best_hidden_neurons)\n",
        "print(\"Best validation MSE is: \",best_mse)"
      ],
      "metadata": {
        "colab": {
          "base_uri": "https://localhost:8080/"
        },
        "id": "SoUYLuLtGcbA",
        "outputId": "751cae39-6d4e-486a-c52d-066f79013e55"
      },
      "execution_count": 329,
      "outputs": [
        {
          "output_type": "stream",
          "name": "stdout",
          "text": [
            "current width:  20  time of computation:  9.937102556228638  MSE validation:  0.003998560813603228  MSE train:  0.0030319301266511166\n",
            "current width:  40  time of computation:  15.736612558364868  MSE validation:  0.1823303940725558  MSE train:  0.19179718127623122\n",
            "current width:  60  time of computation:  32.709285736083984  MSE validation:  0.18233039502707815  MSE train:  0.1917971822987391\n",
            "current width:  80  time of computation:  31.848283052444458  MSE validation:  0.18233039502766232  MSE train:  0.19179718229939818\n",
            "Optimal number of max_neurons in each layer:  20\n",
            "Best validation MSE is:  0.003998560813603228\n"
          ]
        }
      ]
    },
    {
      "cell_type": "markdown",
      "source": [
        "**General Observations on width and depth of network**\n",
        "1. As depth and width of neural network increases the time of computation increases,\n",
        "2. As depth and width of neural network increases, the algorithms need more and more training data to converge to a low value. The increased validation and train error indicated that data provided to the network is not sufficient and this making them less suitable for limited data scenarios\n",
        "3. As the complexity of neural network increases(depth increases), the model is very likely to overfit the training data, due to low approximation error, a drop in MSE train can be observed from the above simulations, but it fails to generalize on unseen data. This is evident from relatively higher MSE validation, with increase in complexity\n",
        "4. Hyperparameter tuning needs to be performed to each of these models to obtain the best performance given a configuration of the model."
      ],
      "metadata": {
        "id": "524Pe7weVQEM"
      }
    },
    {
      "cell_type": "markdown",
      "source": [
        "**Pytorch implementation of multi layer model:**\n",
        "\n",
        "Let us implement a pytorch model and an implementation of our model.\n",
        "The results of the models are compared using MSE and r2_score\n",
        "\n"
      ],
      "metadata": {
        "id": "AX1DLTeLYw1J"
      }
    },
    {
      "cell_type": "code",
      "source": [
        "#Initialize the layers\n",
        "n_input  = len(X_train_scaled.columns)\n",
        "n_hidden = 20  #arbitralily chosen\n",
        "n_out    = 1\n",
        "batch_size = 20\n",
        "learning_rate = 0.5\n",
        "model_torch = nn.Sequential(nn.Linear(n_input, n_hidden),\n",
        "                      nn.Sigmoid(),\n",
        "                      nn.Linear(n_hidden, n_hidden),\n",
        "                      nn.Sigmoid(),\n",
        "                      nn.Linear(n_hidden, n_hidden),\n",
        "                      nn.Sigmoid(),\n",
        "                      nn.Linear(n_hidden, n_out),\n",
        "                      nn.Sigmoid())\n",
        "loss_function = nn.MSELoss()\n",
        "optimizer = torch.optim.SGD(model_torch.parameters(), lr=learning_rate)\n",
        "\n",
        "model_torch"
      ],
      "metadata": {
        "colab": {
          "base_uri": "https://localhost:8080/"
        },
        "id": "oheA1pR_YwVy",
        "outputId": "babd42db-fab0-42c8-9e94-6f90e303be0f"
      },
      "execution_count": 54,
      "outputs": [
        {
          "output_type": "execute_result",
          "data": {
            "text/plain": [
              "Sequential(\n",
              "  (0): Linear(in_features=8, out_features=20, bias=True)\n",
              "  (1): Sigmoid()\n",
              "  (2): Linear(in_features=20, out_features=20, bias=True)\n",
              "  (3): Sigmoid()\n",
              "  (4): Linear(in_features=20, out_features=20, bias=True)\n",
              "  (5): Sigmoid()\n",
              "  (6): Linear(in_features=20, out_features=1, bias=True)\n",
              "  (7): Sigmoid()\n",
              ")"
            ]
          },
          "metadata": {},
          "execution_count": 54
        }
      ]
    },
    {
      "cell_type": "code",
      "source": [
        "X_torch  = torch.tensor(X_train_scaled.values, dtype = torch.float32)\n",
        "Y_torch  =  torch.tensor(Y_train_scaled.values, dtype = torch.float32)\n",
        "loss_iter_torch = []\n",
        "for epoch in range(10000):\n",
        "    pred_y = torch.reshape(model_torch(X_torch), Y_torch.shape)\n",
        "    loss = loss_function(pred_y, Y_torch)\n",
        "    loss_iter_torch.append(loss.item())\n",
        "\n",
        "    model_torch.zero_grad()\n",
        "    loss.backward()\n",
        "\n",
        "    optimizer.step()"
      ],
      "metadata": {
        "id": "Lnjdg6nFYvxb"
      },
      "execution_count": 146,
      "outputs": []
    },
    {
      "cell_type": "code",
      "source": [
        "from sklearn.metrics import mean_squared_error as MSE_\n",
        "from sklearn.metrics import r2_score as r2\n",
        "\n",
        "X_val_torch  =  torch.tensor(X_val.values, dtype = torch.float32)\n",
        "Y_val_torch  =  torch.tensor(Y_val.values, dtype = torch.float32)\n",
        "y_pred =  torch.reshape(model_torch(X_val_torch), Y_val_torch.shape).detach().numpy()\n",
        "\n",
        "true_val, predictions_val =  do_inverse_transform(y_pred,Y_val)\n",
        "print(\"MSE pytorch: \",MSE_(true_val, predictions_val))\n",
        "print(\"R2 score: \", r2(true_val, predictions_val))"
      ],
      "metadata": {
        "colab": {
          "base_uri": "https://localhost:8080/"
        },
        "id": "oRXgGDiDQ8Bg",
        "outputId": "2869ac35-b4c0-406b-af50-9d503a4268a5"
      },
      "execution_count": 148,
      "outputs": [
        {
          "output_type": "stream",
          "name": "stdout",
          "text": [
            "MSE pytorch:  67.18989179699098\n",
            "R2 score:  0.7529722984910229\n"
          ]
        }
      ]
    },
    {
      "cell_type": "code",
      "source": [
        "plt.plot(np.arange(10000),loss_iter_torch)\n",
        "plt.title(\"Loss vs iterations - pytorch\")\n",
        "plt.ylabel('loss with iteration ')\n",
        "plt.xlabel('iterations')\n",
        "plt.show()"
      ],
      "metadata": {
        "colab": {
          "base_uri": "https://localhost:8080/",
          "height": 295
        },
        "id": "gvxODxA1iPLd",
        "outputId": "f30beb25-17c2-4c7d-86c9-b042f4205481"
      },
      "execution_count": 149,
      "outputs": [
        {
          "output_type": "display_data",
          "data": {
            "text/plain": [
              "<Figure size 432x288 with 1 Axes>"
            ],
            "image/png": "[encoded data removed]"
          },
          "metadata": {
            "needs_background": "light"
          }
        }
      ]
    },
    {
      "cell_type": "code",
      "source": [
        "network_mlp = NeuralNetwork(np.array(X_train_scaled),np.array(Y_train_scaled).reshape(X_train_scaled.shape[0],1),4,[20,20,20,1],[activation_functions.sigmoid,activation_functions.sigmoid,activation_functions.sigmoid,activation_functions.sigmoid], task = 'regression')\n",
        "loss_iter  = network_mlp.backward_propagation(0.01,10000)\n",
        "y_pred = network_mlp.predict(np.array(X_val))\n",
        "#print(y_pred)\n",
        "val = X_val.copy(deep = True)\n",
        "val['Y'] = y_pred\n",
        "predictions_val = pd.DataFrame(sc.inverse_transform(val),columns = val.columns)['Y']\n",
        "val['Y'] = Y_val\n",
        "true_val = pd.DataFrame(sc.inverse_transform(val),columns = val.columns)['Y']\n",
        "mse = network_mlp.calculate_loss(np.array(true_val).reshape(X_val.shape[0],1),np.array(predictions_val).reshape(X_val.shape[0],1))\n",
        "\n",
        "print(\"MSE neural network from scratch: \",mse)\n"
      ],
      "metadata": {
        "colab": {
          "base_uri": "https://localhost:8080/"
        },
        "id": "QbEH4ak-b_Ls",
        "outputId": "41de73d2-ca02-463b-c706-265a45ca692d"
      },
      "execution_count": 153,
      "outputs": [
        {
          "output_type": "stream",
          "name": "stdout",
          "text": [
            "MSE neural network from scratch:  551.3541668545997\n"
          ]
        }
      ]
    }
  ]
}