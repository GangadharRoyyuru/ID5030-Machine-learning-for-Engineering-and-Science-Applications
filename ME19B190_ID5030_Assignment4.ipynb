{
  "cells": [
    {
      "cell_type": "code",
      "execution_count": 1,
      "metadata": {
        "id": "9OnHbd14uPev"
      },
      "outputs": [],
      "source": [
        "import pandas as pd\n",
        "import numpy as np"
      ]
    },
    {
      "cell_type": "markdown",
      "source": [
        "1. Consider the OR gate truth table as discussed in class\n",
        "  a. Write a python code implementing logistic regression (using gradient\n",
        "  descent) from scratch and use the same to replicate OR gate\n",
        "  \n",
        "  b. Modify the code for AND and XOR gates.\n",
        "  Comment on the meaning of the converged weights you obtained above.\n"
      ],
      "metadata": {
        "id": "ZVNW-WdxQcdA"
      }
    },
    {
      "cell_type": "code",
      "execution_count": 2,
      "metadata": {
        "id": "oxqmyQGuklst"
      },
      "outputs": [],
      "source": [
        "#OR_gate\n",
        "OR_gate = pd.DataFrame([])\n",
        "OR_gate['x1'] = [0,0,1,1]\n",
        "OR_gate['x2'] = [0,1,0,1]\n",
        "OR_gate['y']  = [0,1,1,1]"
      ]
    },
    {
      "cell_type": "code",
      "execution_count": 3,
      "metadata": {
        "id": "0-fCFXltwzVr"
      },
      "outputs": [],
      "source": [
        "#AND_gate\n",
        "AND_gate = pd.DataFrame([])\n",
        "AND_gate['x1'] = [0,0,1,1]\n",
        "AND_gate['x2'] = [0,1,0,1]\n",
        "AND_gate['y']  = [0,0,0,1]"
      ]
    },
    {
      "cell_type": "code",
      "execution_count": 4,
      "metadata": {
        "id": "NHEN568oybMt"
      },
      "outputs": [],
      "source": [
        "#XOR Code\n",
        "XOR_gate = pd.DataFrame([])\n",
        "XOR_gate['x1'] = [0,0,1,1]\n",
        "XOR_gate['x2'] = [0,1,0,1]\n",
        "XOR_gate['y']  = [0,1,1,0]"
      ]
    },
    {
      "cell_type": "code",
      "execution_count": 5,
      "metadata": {
        "id": "yso41Q2gklyZ"
      },
      "outputs": [],
      "source": [
        "def sigmoid(w,x):\n",
        "  a = np.dot(w,x)\n",
        "  return 1/(1+np.exp(-a))\n",
        "\n",
        "#caluclate binary loss\n",
        "def binary_loss(y_hat,y_i):\n",
        "  if y_i == 0:\n",
        "    return -np.log(1-y_hat)\n",
        "  if y_i == 1:\n",
        "    return -np.log(y_hat)\n",
        "\n",
        "#caluclating total loss\n",
        "def total_binary_loss(X,Y,W):\n",
        "  loss = 0\n",
        "  for i in range(len(X)):\n",
        "    y_hat_i = sigmoid(W,X[i])\n",
        "    loss += binary_loss(y_hat_i,Y[i])\n",
        "  return loss/len(X)\n",
        "\n",
        "#gradient descent for logistic regression \n",
        "def do_logistic_regression(X,Y,num_epochs = 1000,alpha = 0.1):\n",
        "  w = np.ones(X.shape[-1])\n",
        "  total_loss = []\n",
        "  total_loss.append(total_binary_loss(X,Y,w))\n",
        "  for i in range(num_epochs+1):\n",
        "    grad = 0\n",
        "    for j in range(len(X)):\n",
        "      grad += (sigmoid(w,X[j])-Y[j])*X[j]\n",
        "    w = w - (alpha*1/len(X))*grad\n",
        "    total_loss.append(total_binary_loss(X,Y,w))\n",
        "  return w,total_loss\n",
        "      \n",
        "\n",
        "\n"
      ]
    },
    {
      "cell_type": "code",
      "execution_count": 6,
      "metadata": {
        "id": "8GwoKcIAt5g8"
      },
      "outputs": [],
      "source": [
        "#initializing parameters\n",
        "num_epochs = 10000\n",
        "alpha      = 0.1"
      ]
    },
    {
      "cell_type": "code",
      "execution_count": 7,
      "metadata": {
        "id": "vbOJycCNkl8U"
      },
      "outputs": [],
      "source": [
        "from sklearn.metrics import confusion_matrix\n",
        "import seaborn as sns\n",
        "from sklearn.metrics import accuracy_score\n",
        "import matplotlib.pyplot as plt\n",
        "\n",
        "#predictions on otained weights\n",
        "def predict_binary_logistic_regression(weight_vector,X):\n",
        "  X = np.array(X)\n",
        "  pred = []\n",
        "  for i in range(len(X)):\n",
        "\n",
        "    a = sigmoid(weight_vector,X[i])\n",
        "\n",
        "    a = 0 if a < 0.5 else 1\n",
        "    pred.append(a)\n",
        "\n",
        "  return pred\n"
      ]
    },
    {
      "cell_type": "code",
      "execution_count": 8,
      "metadata": {
        "colab": {
          "base_uri": "https://localhost:8080/",
          "height": 1000
        },
        "id": "VYSi-uwukl-9",
        "outputId": "8d860fea-751d-43e9-fd16-91bc7a5b15cd"
      },
      "outputs": [
        {
          "output_type": "stream",
          "name": "stdout",
          "text": [
            "OR_gate\n",
            "Accuracy:  1.0 Loss:  0.009252638212462864\n",
            "Weights:  [ 8.67148656  8.67148656 -3.87061964]\n",
            "-----------------------------\n"
          ]
        },
        {
          "output_type": "display_data",
          "data": {
            "text/plain": [
              "<Figure size 1080x360 with 3 Axes>"
            ],
            "image/png": "[encoded data removed]"
          },
          "metadata": {
            "needs_background": "light"
          }
        },
        {
          "output_type": "stream",
          "name": "stdout",
          "text": [
            "AND_gate\n",
            "Accuracy:  1.0 Loss:  0.0173900148372588\n",
            "Weights:  [  7.41714719   7.41714719 -11.298321  ]\n",
            "-----------------------------\n"
          ]
        },
        {
          "output_type": "display_data",
          "data": {
            "text/plain": [
              "<Figure size 1080x360 with 3 Axes>"
            ],
            "image/png": "[encoded data removed]"
          },
          "metadata": {
            "needs_background": "light"
          }
        },
        {
          "output_type": "stream",
          "name": "stdout",
          "text": [
            "XOR_gate\n",
            "Accuracy:  0.5 Loss:  0.6931471805599453\n",
            "Weights:  [ 2.47865765e-16  2.47865765e-16 -3.30699561e-16]\n",
            "-----------------------------\n"
          ]
        },
        {
          "output_type": "display_data",
          "data": {
            "text/plain": [
              "<Figure size 1080x360 with 3 Axes>"
            ],
            "image/png": "[encoded data removed]"
          },
          "metadata": {
            "needs_background": "light"
          }
        }
      ],
      "source": [
        "weights_learnt = []\n",
        "loss_vs_iter = []\n",
        "titles =['OR_gate','AND_gate','XOR_gate']\n",
        "z=0\n",
        "for df in [OR_gate,AND_gate,XOR_gate]:\n",
        "  train = df.copy(deep = True )\n",
        "  train['bias'] = 1\n",
        "  X = train.drop(columns = ['y'],axis = 1)\n",
        "  Y = train['y']\n",
        "  weights,loss = do_logistic_regression(np.array(X),np.array(Y),num_epochs,alpha) \n",
        "  weights_learnt.append(weights)\n",
        "  loss_vs_iter.append(loss)\n",
        "  acc =  accuracy_score(np.array(Y),predict_binary_logistic_regression(weights,np.array(X)))\n",
        "  print(titles[z])\n",
        "  z+=1\n",
        "  print('Accuracy: ', acc, 'Loss: ',loss[-1])\n",
        "  print(\"Weights: \",weights)\n",
        "  print('-----------------------------')\n",
        "  plt.figure(figsize = (15,5))\n",
        "  plt.subplot(121)\n",
        "  plt.plot(np.arange(len(loss)),loss)\n",
        "  plt.title('Loss vs iterations ')\n",
        "  plt.xlabel(\"Number of epochs\")\n",
        "  plt.ylabel(\"Total Loss\")\n",
        "  plt.subplot(122)\n",
        "  cm = confusion_matrix(np.array(Y),predict_binary_logistic_regression(weights,np.array(X)))\n",
        "  sns.heatmap(cm, annot = True, cbar = True)\n",
        "  plt.show()\n",
        "\n"
      ]
    },
    {
      "cell_type": "markdown",
      "metadata": {
        "id": "03BwfFRhSeNv"
      },
      "source": [
        "Now, let us try to interpret the value of weights to which the algorithm converged.\n",
        "\n",
        "**The weights to which the logistic regression converged are the coefficients of the best hyperplane which seperates the classes. **\n",
        "\n",
        "Consider the following illustration: "
      ]
    },
    {
      "cell_type": "code",
      "execution_count": 9,
      "metadata": {
        "colab": {
          "base_uri": "https://localhost:8080/",
          "height": 1000
        },
        "id": "0FL2k4_dSdl6",
        "outputId": "7b1d0e33-8166-47b4-c6f0-44fc7be13386"
      },
      "outputs": [
        {
          "output_type": "stream",
          "name": "stdout",
          "text": [
            "OR_gate\n",
            "Weights learnt:  [ 8.67148656  8.67148656 -3.87061964]\n"
          ]
        },
        {
          "output_type": "display_data",
          "data": {
            "text/plain": [
              "<Figure size 432x432 with 1 Axes>"
            ],
            "image/png": "[encoded data removed]"
          },
          "metadata": {
            "needs_background": "light"
          }
        },
        {
          "output_type": "stream",
          "name": "stdout",
          "text": [
            "AND_gate\n",
            "Weights learnt:  [  7.41714719   7.41714719 -11.298321  ]\n"
          ]
        },
        {
          "output_type": "display_data",
          "data": {
            "text/plain": [
              "<Figure size 432x432 with 1 Axes>"
            ],
            "image/png": "[encoded data removed]"
          },
          "metadata": {
            "needs_background": "light"
          }
        },
        {
          "output_type": "stream",
          "name": "stdout",
          "text": [
            "XOR_gate\n",
            "Weights learnt:  [ 2.47865765e-16  2.47865765e-16 -3.30699561e-16]\n"
          ]
        },
        {
          "output_type": "display_data",
          "data": {
            "text/plain": [
              "<Figure size 432x432 with 1 Axes>"
            ],
            "image/png": "[encoded data removed]"
          },
          "metadata": {
            "needs_background": "light"
          }
        }
      ],
      "source": [
        "\n",
        "\n",
        "df = [OR_gate,AND_gate,XOR_gate]\n",
        "titles =['OR_gate','AND_gate','XOR_gate']\n",
        "for i in range(len(weights_learnt)):\n",
        "  weights = weights_learnt[i]\n",
        "  print(titles[i])\n",
        "  print('Weights learnt: ',weights)\n",
        "  x = np.linspace(-0.2,1.2)\n",
        "  y = (-1*weights[0]*x - weights[2])/weights[1]\n",
        "  X = np.array(df[i])\n",
        "  plt.figure(figsize = (6,6))\n",
        "  for point in range(len(X)):\n",
        "    x1 = X[point][0]\n",
        "    x2 = X[point][1]\n",
        "    cls = X[point][2]\n",
        "    color = 'b' if cls==1 else 'r'\n",
        "    plt.scatter(x1,x2,c = color,label = 'class 1' if color == 'b' else 'class 0')\n",
        "  plt.plot(x,y,label = 'seperating line')\n",
        "  plt.title('Seperating plane')\n",
        "  plt.xlabel('x')\n",
        "  plt.ylabel('y')\n",
        "  plt.legend()\n",
        "  plt.show()\n"
      ]
    },
    {
      "cell_type": "markdown",
      "metadata": {
        "id": "yo_8mFOWAnlo"
      },
      "source": [
        "Thus, the learned weights represent the hyperplane that best seperates the two classes of data if it was linearly seperable. The above plots illustrates the learnt decision boundary for OR, AND and XOR respectively. Thus, the above analysis helps us to conclude that the logistic regression is a linear classfier and performs with very high accuracy on linearly seperable data.\n",
        "\n",
        "**Summary:**\n",
        "\n",
        "1. Logistic regression is a linear classifier\n",
        "2. The loss is computed using cross_entropy loss\n",
        "3. The output of the algorithm is the likelihood that it belongs to class zero (P(Y=0/x) = sigmoid(x)).\n",
        "4. In the context of binary classification, the computed weights represent that the best hyperplane that best seperates the linearly seperable data.\n",
        "5. XOR gate is not linearly seperable, thus logistic regression did not seperate both classes with high accuracy(only able to classify 3 out of 4 points correctly) \n",
        "6. Logistic regression acheived an accuracy of 100% on the OR and AND gate as the data is linearly seperable.\n",
        "  \n"
      ]
    },
    {
      "cell_type": "markdown",
      "source": [
        "2. Download the IRIS dataset (https://archive.ics.uci.edu/ml/datasets/iris)\n",
        "\n",
        "  a. Write gradient descent code to perform multiclass classification\n",
        "  using the entire dataset for training\n",
        "\n",
        "  b. Report on the confusion matrix for this"
      ],
      "metadata": {
        "id": "bWIQd0XPKhLE"
      }
    },
    {
      "cell_type": "code",
      "execution_count": 10,
      "metadata": {
        "id": "I3nieY8jyHZZ"
      },
      "outputs": [],
      "source": [
        "head = ['sepal length in cm','sepal width in cm','petal length in cm','petal width in cm','class'] #setting the header"
      ]
    },
    {
      "cell_type": "code",
      "execution_count": 11,
      "metadata": {
        "colab": {
          "base_uri": "https://localhost:8080/",
          "height": 423
        },
        "id": "frfryhWKxJdc",
        "outputId": "e6172ff9-cef4-482a-f50c-ea0f55abc293"
      },
      "outputs": [
        {
          "output_type": "execute_result",
          "data": {
            "text/plain": [
              "     sepal length in cm  sepal width in cm  petal length in cm  \\\n",
              "0                   5.1                3.5                 1.4   \n",
              "1                   4.9                3.0                 1.4   \n",
              "2                   4.7                3.2                 1.3   \n",
              "3                   4.6                3.1                 1.5   \n",
              "4                   5.0                3.6                 1.4   \n",
              "..                  ...                ...                 ...   \n",
              "145                 6.7                3.0                 5.2   \n",
              "146                 6.3                2.5                 5.0   \n",
              "147                 6.5                3.0                 5.2   \n",
              "148                 6.2                3.4                 5.4   \n",
              "149                 5.9                3.0                 5.1   \n",
              "\n",
              "     petal width in cm           class  \n",
              "0                  0.2     Iris-setosa  \n",
              "1                  0.2     Iris-setosa  \n",
              "2                  0.2     Iris-setosa  \n",
              "3                  0.2     Iris-setosa  \n",
              "4                  0.2     Iris-setosa  \n",
              "..                 ...             ...  \n",
              "145                2.3  Iris-virginica  \n",
              "146                1.9  Iris-virginica  \n",
              "147                2.0  Iris-virginica  \n",
              "148                2.3  Iris-virginica  \n",
              "149                1.8  Iris-virginica  \n",
              "\n",
              "[150 rows x 5 columns]"
            ],
            "text/html": [
              "\n",
              "  <div id=\"df-a972f882-32b6-481e-ba73-d7bcc20b8c28\">\n",
              "    <div class=\"colab-df-container\">\n",
              "      <div>\n",
              "<style scoped>\n",
              "    .dataframe tbody tr th:only-of-type {\n",
              "        vertical-align: middle;\n",
              "    }\n",
              "\n",
              "    .dataframe tbody tr th {\n",
              "        vertical-align: top;\n",
              "    }\n",
              "\n",
              "    .dataframe thead th {\n",
              "        text-align: right;\n",
              "    }\n",
              "</style>\n",
              "<table border=\"1\" class=\"dataframe\">\n",
              "  <thead>\n",
              "    <tr style=\"text-align: right;\">\n",
              "      <th></th>\n",
              "      <th>sepal length in cm</th>\n",
              "      <th>sepal width in cm</th>\n",
              "      <th>petal length in cm</th>\n",
              "      <th>petal width in cm</th>\n",
              "      <th>class</th>\n",
              "    </tr>\n",
              "  </thead>\n",
              "  <tbody>\n",
              "    <tr>\n",
              "      <th>0</th>\n",
              "      <td>5.1</td>\n",
              "      <td>3.5</td>\n",
              "      <td>1.4</td>\n",
              "      <td>0.2</td>\n",
              "      <td>Iris-setosa</td>\n",
              "    </tr>\n",
              "    <tr>\n",
              "      <th>1</th>\n",
              "      <td>4.9</td>\n",
              "      <td>3.0</td>\n",
              "      <td>1.4</td>\n",
              "      <td>0.2</td>\n",
              "      <td>Iris-setosa</td>\n",
              "    </tr>\n",
              "    <tr>\n",
              "      <th>2</th>\n",
              "      <td>4.7</td>\n",
              "      <td>3.2</td>\n",
              "      <td>1.3</td>\n",
              "      <td>0.2</td>\n",
              "      <td>Iris-setosa</td>\n",
              "    </tr>\n",
              "    <tr>\n",
              "      <th>3</th>\n",
              "      <td>4.6</td>\n",
              "      <td>3.1</td>\n",
              "      <td>1.5</td>\n",
              "      <td>0.2</td>\n",
              "      <td>Iris-setosa</td>\n",
              "    </tr>\n",
              "    <tr>\n",
              "      <th>4</th>\n",
              "      <td>5.0</td>\n",
              "      <td>3.6</td>\n",
              "      <td>1.4</td>\n",
              "      <td>0.2</td>\n",
              "      <td>Iris-setosa</td>\n",
              "    </tr>\n",
              "    <tr>\n",
              "      <th>...</th>\n",
              "      <td>...</td>\n",
              "      <td>...</td>\n",
              "      <td>...</td>\n",
              "      <td>...</td>\n",
              "      <td>...</td>\n",
              "    </tr>\n",
              "    <tr>\n",
              "      <th>145</th>\n",
              "      <td>6.7</td>\n",
              "      <td>3.0</td>\n",
              "      <td>5.2</td>\n",
              "      <td>2.3</td>\n",
              "      <td>Iris-virginica</td>\n",
              "    </tr>\n",
              "    <tr>\n",
              "      <th>146</th>\n",
              "      <td>6.3</td>\n",
              "      <td>2.5</td>\n",
              "      <td>5.0</td>\n",
              "      <td>1.9</td>\n",
              "      <td>Iris-virginica</td>\n",
              "    </tr>\n",
              "    <tr>\n",
              "      <th>147</th>\n",
              "      <td>6.5</td>\n",
              "      <td>3.0</td>\n",
              "      <td>5.2</td>\n",
              "      <td>2.0</td>\n",
              "      <td>Iris-virginica</td>\n",
              "    </tr>\n",
              "    <tr>\n",
              "      <th>148</th>\n",
              "      <td>6.2</td>\n",
              "      <td>3.4</td>\n",
              "      <td>5.4</td>\n",
              "      <td>2.3</td>\n",
              "      <td>Iris-virginica</td>\n",
              "    </tr>\n",
              "    <tr>\n",
              "      <th>149</th>\n",
              "      <td>5.9</td>\n",
              "      <td>3.0</td>\n",
              "      <td>5.1</td>\n",
              "      <td>1.8</td>\n",
              "      <td>Iris-virginica</td>\n",
              "    </tr>\n",
              "  </tbody>\n",
              "</table>\n",
              "<p>150 rows × 5 columns</p>\n",
              "</div>\n",
              "      <button class=\"colab-df-convert\" onclick=\"convertToInteractive('df-a972f882-32b6-481e-ba73-d7bcc20b8c28')\"\n",
              "              title=\"Convert this dataframe to an interactive table.\"\n",
              "              style=\"display:none;\">\n",
              "        \n",
              "  <svg xmlns=\"http://www.w3.org/2000/svg\" height=\"24px\"viewBox=\"0 0 24 24\"\n",
              "       width=\"24px\">\n",
              "    <path d=\"M0 0h24v24H0V0z\" fill=\"none\"/>\n",
              "    <path d=\"M18.56 5.44l.94 2.06.94-2.06 2.06-.94-2.06-.94-.94-2.06-.94 2.06-2.06.94zm-11 1L8.5 8.5l.94-2.06 2.06-.94-2.06-.94L8.5 2.5l-.94 2.06-2.06.94zm10 10l.94 2.06.94-2.06 2.06-.94-2.06-.94-.94-2.06-.94 2.06-2.06.94z\"/><path d=\"M17.41 7.96l-1.37-1.37c-.4-.4-.92-.59-1.43-.59-.52 0-1.04.2-1.43.59L10.3 9.45l-7.72 7.72c-.78.78-.78 2.05 0 2.83L4 21.41c.39.39.9.59 1.41.59.51 0 1.02-.2 1.41-.59l7.78-7.78 2.81-2.81c.8-.78.8-2.07 0-2.86zM5.41 20L4 18.59l7.72-7.72 1.47 1.35L5.41 20z\"/>\n",
              "  </svg>\n",
              "      </button>\n",
              "      \n",
              "  <style>\n",
              "    .colab-df-container {\n",
              "      display:flex;\n",
              "      flex-wrap:wrap;\n",
              "      gap: 12px;\n",
              "    }\n",
              "\n",
              "    .colab-df-convert {\n",
              "      background-color: #E8F0FE;\n",
              "      border: none;\n",
              "      border-radius: 50%;\n",
              "      cursor: pointer;\n",
              "      display: none;\n",
              "      fill: #1967D2;\n",
              "      height: 32px;\n",
              "      padding: 0 0 0 0;\n",
              "      width: 32px;\n",
              "    }\n",
              "\n",
              "    .colab-df-convert:hover {\n",
              "      background-color: #E2EBFA;\n",
              "      box-shadow: 0px 1px 2px rgba(60, 64, 67, 0.3), 0px 1px 3px 1px rgba(60, 64, 67, 0.15);\n",
              "      fill: #174EA6;\n",
              "    }\n",
              "\n",
              "    [theme=dark] .colab-df-convert {\n",
              "      background-color: #3B4455;\n",
              "      fill: #D2E3FC;\n",
              "    }\n",
              "\n",
              "    [theme=dark] .colab-df-convert:hover {\n",
              "      background-color: #434B5C;\n",
              "      box-shadow: 0px 1px 3px 1px rgba(0, 0, 0, 0.15);\n",
              "      filter: drop-shadow(0px 1px 2px rgba(0, 0, 0, 0.3));\n",
              "      fill: #FFFFFF;\n",
              "    }\n",
              "  </style>\n",
              "\n",
              "      <script>\n",
              "        const buttonEl =\n",
              "          document.querySelector('#df-a972f882-32b6-481e-ba73-d7bcc20b8c28 button.colab-df-convert');\n",
              "        buttonEl.style.display =\n",
              "          google.colab.kernel.accessAllowed ? 'block' : 'none';\n",
              "\n",
              "        async function convertToInteractive(key) {\n",
              "          const element = document.querySelector('#df-a972f882-32b6-481e-ba73-d7bcc20b8c28');\n",
              "          const dataTable =\n",
              "            await google.colab.kernel.invokeFunction('convertToInteractive',\n",
              "                                                     [key], {});\n",
              "          if (!dataTable) return;\n",
              "\n",
              "          const docLinkHtml = 'Like what you see? Visit the ' +\n",
              "            '<a target=\"_blank\" href=https://colab.research.google.com/notebooks/data_table.ipynb>data table notebook</a>'\n",
              "            + ' to learn more about interactive tables.';\n",
              "          element.innerHTML = '';\n",
              "          dataTable['output_type'] = 'display_data';\n",
              "          await google.colab.output.renderOutput(dataTable, element);\n",
              "          const docLink = document.createElement('div');\n",
              "          docLink.innerHTML = docLinkHtml;\n",
              "          element.appendChild(docLink);\n",
              "        }\n",
              "      </script>\n",
              "    </div>\n",
              "  </div>\n",
              "  "
            ]
          },
          "metadata": {},
          "execution_count": 11
        }
      ],
      "source": [
        "f1 = pd.read_csv('bezdekIris.data',sep=',',names = head)       #loading the file\n",
        "f1"
      ]
    },
    {
      "cell_type": "code",
      "execution_count": 12,
      "metadata": {
        "colab": {
          "base_uri": "https://localhost:8080/",
          "height": 423
        },
        "id": "vF3-_KN7xTKU",
        "outputId": "d0a9ae81-44c7-4326-9591-754f684c176c"
      },
      "outputs": [
        {
          "output_type": "execute_result",
          "data": {
            "text/plain": [
              "     sepal length in cm  sepal width in cm  petal length in cm  \\\n",
              "0                   5.1                3.5                 1.4   \n",
              "1                   4.9                3.0                 1.4   \n",
              "2                   4.7                3.2                 1.3   \n",
              "3                   4.6                3.1                 1.5   \n",
              "4                   5.0                3.6                 1.4   \n",
              "..                  ...                ...                 ...   \n",
              "145                 6.7                3.0                 5.2   \n",
              "146                 6.3                2.5                 5.0   \n",
              "147                 6.5                3.0                 5.2   \n",
              "148                 6.2                3.4                 5.4   \n",
              "149                 5.9                3.0                 5.1   \n",
              "\n",
              "     petal width in cm           class  \n",
              "0                  0.2     Iris-setosa  \n",
              "1                  0.2     Iris-setosa  \n",
              "2                  0.2     Iris-setosa  \n",
              "3                  0.2     Iris-setosa  \n",
              "4                  0.2     Iris-setosa  \n",
              "..                 ...             ...  \n",
              "145                2.3  Iris-virginica  \n",
              "146                1.9  Iris-virginica  \n",
              "147                2.0  Iris-virginica  \n",
              "148                2.3  Iris-virginica  \n",
              "149                1.8  Iris-virginica  \n",
              "\n",
              "[150 rows x 5 columns]"
            ],
            "text/html": [
              "\n",
              "  <div id=\"df-f501fc6a-6ac3-4eff-aa4e-512dd6d1a3f0\">\n",
              "    <div class=\"colab-df-container\">\n",
              "      <div>\n",
              "<style scoped>\n",
              "    .dataframe tbody tr th:only-of-type {\n",
              "        vertical-align: middle;\n",
              "    }\n",
              "\n",
              "    .dataframe tbody tr th {\n",
              "        vertical-align: top;\n",
              "    }\n",
              "\n",
              "    .dataframe thead th {\n",
              "        text-align: right;\n",
              "    }\n",
              "</style>\n",
              "<table border=\"1\" class=\"dataframe\">\n",
              "  <thead>\n",
              "    <tr style=\"text-align: right;\">\n",
              "      <th></th>\n",
              "      <th>sepal length in cm</th>\n",
              "      <th>sepal width in cm</th>\n",
              "      <th>petal length in cm</th>\n",
              "      <th>petal width in cm</th>\n",
              "      <th>class</th>\n",
              "    </tr>\n",
              "  </thead>\n",
              "  <tbody>\n",
              "    <tr>\n",
              "      <th>0</th>\n",
              "      <td>5.1</td>\n",
              "      <td>3.5</td>\n",
              "      <td>1.4</td>\n",
              "      <td>0.2</td>\n",
              "      <td>Iris-setosa</td>\n",
              "    </tr>\n",
              "    <tr>\n",
              "      <th>1</th>\n",
              "      <td>4.9</td>\n",
              "      <td>3.0</td>\n",
              "      <td>1.4</td>\n",
              "      <td>0.2</td>\n",
              "      <td>Iris-setosa</td>\n",
              "    </tr>\n",
              "    <tr>\n",
              "      <th>2</th>\n",
              "      <td>4.7</td>\n",
              "      <td>3.2</td>\n",
              "      <td>1.3</td>\n",
              "      <td>0.2</td>\n",
              "      <td>Iris-setosa</td>\n",
              "    </tr>\n",
              "    <tr>\n",
              "      <th>3</th>\n",
              "      <td>4.6</td>\n",
              "      <td>3.1</td>\n",
              "      <td>1.5</td>\n",
              "      <td>0.2</td>\n",
              "      <td>Iris-setosa</td>\n",
              "    </tr>\n",
              "    <tr>\n",
              "      <th>4</th>\n",
              "      <td>5.0</td>\n",
              "      <td>3.6</td>\n",
              "      <td>1.4</td>\n",
              "      <td>0.2</td>\n",
              "      <td>Iris-setosa</td>\n",
              "    </tr>\n",
              "    <tr>\n",
              "      <th>...</th>\n",
              "      <td>...</td>\n",
              "      <td>...</td>\n",
              "      <td>...</td>\n",
              "      <td>...</td>\n",
              "      <td>...</td>\n",
              "    </tr>\n",
              "    <tr>\n",
              "      <th>145</th>\n",
              "      <td>6.7</td>\n",
              "      <td>3.0</td>\n",
              "      <td>5.2</td>\n",
              "      <td>2.3</td>\n",
              "      <td>Iris-virginica</td>\n",
              "    </tr>\n",
              "    <tr>\n",
              "      <th>146</th>\n",
              "      <td>6.3</td>\n",
              "      <td>2.5</td>\n",
              "      <td>5.0</td>\n",
              "      <td>1.9</td>\n",
              "      <td>Iris-virginica</td>\n",
              "    </tr>\n",
              "    <tr>\n",
              "      <th>147</th>\n",
              "      <td>6.5</td>\n",
              "      <td>3.0</td>\n",
              "      <td>5.2</td>\n",
              "      <td>2.0</td>\n",
              "      <td>Iris-virginica</td>\n",
              "    </tr>\n",
              "    <tr>\n",
              "      <th>148</th>\n",
              "      <td>6.2</td>\n",
              "      <td>3.4</td>\n",
              "      <td>5.4</td>\n",
              "      <td>2.3</td>\n",
              "      <td>Iris-virginica</td>\n",
              "    </tr>\n",
              "    <tr>\n",
              "      <th>149</th>\n",
              "      <td>5.9</td>\n",
              "      <td>3.0</td>\n",
              "      <td>5.1</td>\n",
              "      <td>1.8</td>\n",
              "      <td>Iris-virginica</td>\n",
              "    </tr>\n",
              "  </tbody>\n",
              "</table>\n",
              "<p>150 rows × 5 columns</p>\n",
              "</div>\n",
              "      <button class=\"colab-df-convert\" onclick=\"convertToInteractive('df-f501fc6a-6ac3-4eff-aa4e-512dd6d1a3f0')\"\n",
              "              title=\"Convert this dataframe to an interactive table.\"\n",
              "              style=\"display:none;\">\n",
              "        \n",
              "  <svg xmlns=\"http://www.w3.org/2000/svg\" height=\"24px\"viewBox=\"0 0 24 24\"\n",
              "       width=\"24px\">\n",
              "    <path d=\"M0 0h24v24H0V0z\" fill=\"none\"/>\n",
              "    <path d=\"M18.56 5.44l.94 2.06.94-2.06 2.06-.94-2.06-.94-.94-2.06-.94 2.06-2.06.94zm-11 1L8.5 8.5l.94-2.06 2.06-.94-2.06-.94L8.5 2.5l-.94 2.06-2.06.94zm10 10l.94 2.06.94-2.06 2.06-.94-2.06-.94-.94-2.06-.94 2.06-2.06.94z\"/><path d=\"M17.41 7.96l-1.37-1.37c-.4-.4-.92-.59-1.43-.59-.52 0-1.04.2-1.43.59L10.3 9.45l-7.72 7.72c-.78.78-.78 2.05 0 2.83L4 21.41c.39.39.9.59 1.41.59.51 0 1.02-.2 1.41-.59l7.78-7.78 2.81-2.81c.8-.78.8-2.07 0-2.86zM5.41 20L4 18.59l7.72-7.72 1.47 1.35L5.41 20z\"/>\n",
              "  </svg>\n",
              "      </button>\n",
              "      \n",
              "  <style>\n",
              "    .colab-df-container {\n",
              "      display:flex;\n",
              "      flex-wrap:wrap;\n",
              "      gap: 12px;\n",
              "    }\n",
              "\n",
              "    .colab-df-convert {\n",
              "      background-color: #E8F0FE;\n",
              "      border: none;\n",
              "      border-radius: 50%;\n",
              "      cursor: pointer;\n",
              "      display: none;\n",
              "      fill: #1967D2;\n",
              "      height: 32px;\n",
              "      padding: 0 0 0 0;\n",
              "      width: 32px;\n",
              "    }\n",
              "\n",
              "    .colab-df-convert:hover {\n",
              "      background-color: #E2EBFA;\n",
              "      box-shadow: 0px 1px 2px rgba(60, 64, 67, 0.3), 0px 1px 3px 1px rgba(60, 64, 67, 0.15);\n",
              "      fill: #174EA6;\n",
              "    }\n",
              "\n",
              "    [theme=dark] .colab-df-convert {\n",
              "      background-color: #3B4455;\n",
              "      fill: #D2E3FC;\n",
              "    }\n",
              "\n",
              "    [theme=dark] .colab-df-convert:hover {\n",
              "      background-color: #434B5C;\n",
              "      box-shadow: 0px 1px 3px 1px rgba(0, 0, 0, 0.15);\n",
              "      filter: drop-shadow(0px 1px 2px rgba(0, 0, 0, 0.3));\n",
              "      fill: #FFFFFF;\n",
              "    }\n",
              "  </style>\n",
              "\n",
              "      <script>\n",
              "        const buttonEl =\n",
              "          document.querySelector('#df-f501fc6a-6ac3-4eff-aa4e-512dd6d1a3f0 button.colab-df-convert');\n",
              "        buttonEl.style.display =\n",
              "          google.colab.kernel.accessAllowed ? 'block' : 'none';\n",
              "\n",
              "        async function convertToInteractive(key) {\n",
              "          const element = document.querySelector('#df-f501fc6a-6ac3-4eff-aa4e-512dd6d1a3f0');\n",
              "          const dataTable =\n",
              "            await google.colab.kernel.invokeFunction('convertToInteractive',\n",
              "                                                     [key], {});\n",
              "          if (!dataTable) return;\n",
              "\n",
              "          const docLinkHtml = 'Like what you see? Visit the ' +\n",
              "            '<a target=\"_blank\" href=https://colab.research.google.com/notebooks/data_table.ipynb>data table notebook</a>'\n",
              "            + ' to learn more about interactive tables.';\n",
              "          element.innerHTML = '';\n",
              "          dataTable['output_type'] = 'display_data';\n",
              "          await google.colab.output.renderOutput(dataTable, element);\n",
              "          const docLink = document.createElement('div');\n",
              "          docLink.innerHTML = docLinkHtml;\n",
              "          element.appendChild(docLink);\n",
              "        }\n",
              "      </script>\n",
              "    </div>\n",
              "  </div>\n",
              "  "
            ]
          },
          "metadata": {},
          "execution_count": 12
        }
      ],
      "source": [
        "f2 = pd.read_csv('iris.data',sep=',',names = head)\n",
        "f2"
      ]
    },
    {
      "cell_type": "code",
      "execution_count": 13,
      "metadata": {
        "colab": {
          "base_uri": "https://localhost:8080/"
        },
        "id": "ao7Y_0Dc0Cyp",
        "outputId": "b7b0a12d-0cec-4d77-8f61-cb89e11e61a9"
      },
      "outputs": [
        {
          "output_type": "execute_result",
          "data": {
            "text/plain": [
              "Index(['sepal length in cm', 'sepal width in cm', 'petal length in cm',\n",
              "       'petal width in cm', 'class'],\n",
              "      dtype='object')"
            ]
          },
          "metadata": {},
          "execution_count": 13
        }
      ],
      "source": [
        "f1.columns"
      ]
    },
    {
      "cell_type": "code",
      "execution_count": 14,
      "metadata": {
        "colab": {
          "base_uri": "https://localhost:8080/",
          "height": 206
        },
        "id": "c6GHNUAJxdD2",
        "outputId": "c7a9331c-27b4-4120-dcb6-3a74f481e349"
      },
      "outputs": [
        {
          "output_type": "execute_result",
          "data": {
            "text/plain": [
              "   sepal length in cm  sepal width in cm  petal length in cm  \\\n",
              "0                 5.1                3.5                 1.4   \n",
              "1                 4.9                3.0                 1.4   \n",
              "2                 4.7                3.2                 1.3   \n",
              "3                 4.6                3.1                 1.5   \n",
              "4                 5.0                3.6                 1.4   \n",
              "\n",
              "   petal width in cm  class_Iris-setosa  class_Iris-versicolor  \\\n",
              "0                0.2                  1                      0   \n",
              "1                0.2                  1                      0   \n",
              "2                0.2                  1                      0   \n",
              "3                0.2                  1                      0   \n",
              "4                0.2                  1                      0   \n",
              "\n",
              "   class_Iris-virginica  \n",
              "0                     0  \n",
              "1                     0  \n",
              "2                     0  \n",
              "3                     0  \n",
              "4                     0  "
            ],
            "text/html": [
              "\n",
              "  <div id=\"df-742ed9d2-1cc4-484e-8d4c-d3c121f98b20\">\n",
              "    <div class=\"colab-df-container\">\n",
              "      <div>\n",
              "<style scoped>\n",
              "    .dataframe tbody tr th:only-of-type {\n",
              "        vertical-align: middle;\n",
              "    }\n",
              "\n",
              "    .dataframe tbody tr th {\n",
              "        vertical-align: top;\n",
              "    }\n",
              "\n",
              "    .dataframe thead th {\n",
              "        text-align: right;\n",
              "    }\n",
              "</style>\n",
              "<table border=\"1\" class=\"dataframe\">\n",
              "  <thead>\n",
              "    <tr style=\"text-align: right;\">\n",
              "      <th></th>\n",
              "      <th>sepal length in cm</th>\n",
              "      <th>sepal width in cm</th>\n",
              "      <th>petal length in cm</th>\n",
              "      <th>petal width in cm</th>\n",
              "      <th>class_Iris-setosa</th>\n",
              "      <th>class_Iris-versicolor</th>\n",
              "      <th>class_Iris-virginica</th>\n",
              "    </tr>\n",
              "  </thead>\n",
              "  <tbody>\n",
              "    <tr>\n",
              "      <th>0</th>\n",
              "      <td>5.1</td>\n",
              "      <td>3.5</td>\n",
              "      <td>1.4</td>\n",
              "      <td>0.2</td>\n",
              "      <td>1</td>\n",
              "      <td>0</td>\n",
              "      <td>0</td>\n",
              "    </tr>\n",
              "    <tr>\n",
              "      <th>1</th>\n",
              "      <td>4.9</td>\n",
              "      <td>3.0</td>\n",
              "      <td>1.4</td>\n",
              "      <td>0.2</td>\n",
              "      <td>1</td>\n",
              "      <td>0</td>\n",
              "      <td>0</td>\n",
              "    </tr>\n",
              "    <tr>\n",
              "      <th>2</th>\n",
              "      <td>4.7</td>\n",
              "      <td>3.2</td>\n",
              "      <td>1.3</td>\n",
              "      <td>0.2</td>\n",
              "      <td>1</td>\n",
              "      <td>0</td>\n",
              "      <td>0</td>\n",
              "    </tr>\n",
              "    <tr>\n",
              "      <th>3</th>\n",
              "      <td>4.6</td>\n",
              "      <td>3.1</td>\n",
              "      <td>1.5</td>\n",
              "      <td>0.2</td>\n",
              "      <td>1</td>\n",
              "      <td>0</td>\n",
              "      <td>0</td>\n",
              "    </tr>\n",
              "    <tr>\n",
              "      <th>4</th>\n",
              "      <td>5.0</td>\n",
              "      <td>3.6</td>\n",
              "      <td>1.4</td>\n",
              "      <td>0.2</td>\n",
              "      <td>1</td>\n",
              "      <td>0</td>\n",
              "      <td>0</td>\n",
              "    </tr>\n",
              "  </tbody>\n",
              "</table>\n",
              "</div>\n",
              "      <button class=\"colab-df-convert\" onclick=\"convertToInteractive('df-742ed9d2-1cc4-484e-8d4c-d3c121f98b20')\"\n",
              "              title=\"Convert this dataframe to an interactive table.\"\n",
              "              style=\"display:none;\">\n",
              "        \n",
              "  <svg xmlns=\"http://www.w3.org/2000/svg\" height=\"24px\"viewBox=\"0 0 24 24\"\n",
              "       width=\"24px\">\n",
              "    <path d=\"M0 0h24v24H0V0z\" fill=\"none\"/>\n",
              "    <path d=\"M18.56 5.44l.94 2.06.94-2.06 2.06-.94-2.06-.94-.94-2.06-.94 2.06-2.06.94zm-11 1L8.5 8.5l.94-2.06 2.06-.94-2.06-.94L8.5 2.5l-.94 2.06-2.06.94zm10 10l.94 2.06.94-2.06 2.06-.94-2.06-.94-.94-2.06-.94 2.06-2.06.94z\"/><path d=\"M17.41 7.96l-1.37-1.37c-.4-.4-.92-.59-1.43-.59-.52 0-1.04.2-1.43.59L10.3 9.45l-7.72 7.72c-.78.78-.78 2.05 0 2.83L4 21.41c.39.39.9.59 1.41.59.51 0 1.02-.2 1.41-.59l7.78-7.78 2.81-2.81c.8-.78.8-2.07 0-2.86zM5.41 20L4 18.59l7.72-7.72 1.47 1.35L5.41 20z\"/>\n",
              "  </svg>\n",
              "      </button>\n",
              "      \n",
              "  <style>\n",
              "    .colab-df-container {\n",
              "      display:flex;\n",
              "      flex-wrap:wrap;\n",
              "      gap: 12px;\n",
              "    }\n",
              "\n",
              "    .colab-df-convert {\n",
              "      background-color: #E8F0FE;\n",
              "      border: none;\n",
              "      border-radius: 50%;\n",
              "      cursor: pointer;\n",
              "      display: none;\n",
              "      fill: #1967D2;\n",
              "      height: 32px;\n",
              "      padding: 0 0 0 0;\n",
              "      width: 32px;\n",
              "    }\n",
              "\n",
              "    .colab-df-convert:hover {\n",
              "      background-color: #E2EBFA;\n",
              "      box-shadow: 0px 1px 2px rgba(60, 64, 67, 0.3), 0px 1px 3px 1px rgba(60, 64, 67, 0.15);\n",
              "      fill: #174EA6;\n",
              "    }\n",
              "\n",
              "    [theme=dark] .colab-df-convert {\n",
              "      background-color: #3B4455;\n",
              "      fill: #D2E3FC;\n",
              "    }\n",
              "\n",
              "    [theme=dark] .colab-df-convert:hover {\n",
              "      background-color: #434B5C;\n",
              "      box-shadow: 0px 1px 3px 1px rgba(0, 0, 0, 0.15);\n",
              "      filter: drop-shadow(0px 1px 2px rgba(0, 0, 0, 0.3));\n",
              "      fill: #FFFFFF;\n",
              "    }\n",
              "  </style>\n",
              "\n",
              "      <script>\n",
              "        const buttonEl =\n",
              "          document.querySelector('#df-742ed9d2-1cc4-484e-8d4c-d3c121f98b20 button.colab-df-convert');\n",
              "        buttonEl.style.display =\n",
              "          google.colab.kernel.accessAllowed ? 'block' : 'none';\n",
              "\n",
              "        async function convertToInteractive(key) {\n",
              "          const element = document.querySelector('#df-742ed9d2-1cc4-484e-8d4c-d3c121f98b20');\n",
              "          const dataTable =\n",
              "            await google.colab.kernel.invokeFunction('convertToInteractive',\n",
              "                                                     [key], {});\n",
              "          if (!dataTable) return;\n",
              "\n",
              "          const docLinkHtml = 'Like what you see? Visit the ' +\n",
              "            '<a target=\"_blank\" href=https://colab.research.google.com/notebooks/data_table.ipynb>data table notebook</a>'\n",
              "            + ' to learn more about interactive tables.';\n",
              "          element.innerHTML = '';\n",
              "          dataTable['output_type'] = 'display_data';\n",
              "          await google.colab.output.renderOutput(dataTable, element);\n",
              "          const docLink = document.createElement('div');\n",
              "          docLink.innerHTML = docLinkHtml;\n",
              "          element.appendChild(docLink);\n",
              "        }\n",
              "      </script>\n",
              "    </div>\n",
              "  </div>\n",
              "  "
            ]
          },
          "metadata": {},
          "execution_count": 14
        }
      ],
      "source": [
        "data = pd.get_dummies(f1,columns=['class'])\n",
        "data.head()                         #One hot encoding of classes"
      ]
    },
    {
      "cell_type": "code",
      "execution_count": 15,
      "metadata": {
        "colab": {
          "base_uri": "https://localhost:8080/"
        },
        "id": "mtN9MEb60j7Y",
        "outputId": "b4060198-95d0-44a3-92b9-a483a0c80915"
      },
      "outputs": [
        {
          "output_type": "execute_result",
          "data": {
            "text/plain": [
              "Index(['sepal length in cm', 'sepal width in cm', 'petal length in cm',\n",
              "       'petal width in cm', 'class_Iris-setosa', 'class_Iris-versicolor',\n",
              "       'class_Iris-virginica'],\n",
              "      dtype='object')"
            ]
          },
          "metadata": {},
          "execution_count": 15
        }
      ],
      "source": [
        "data.columns"
      ]
    },
    {
      "cell_type": "code",
      "execution_count": 16,
      "metadata": {
        "id": "8f38pmLwxuDG"
      },
      "outputs": [],
      "source": [
        "#Splitting into X and Y\n",
        "X = data.drop(columns = ['class_Iris-setosa', 'class_Iris-versicolor','class_Iris-virginica'],axis = 1)\n",
        "X['bias'] = 1\n",
        "Y = data[['class_Iris-setosa', 'class_Iris-versicolor','class_Iris-virginica']]\n"
      ]
    },
    {
      "cell_type": "code",
      "execution_count": 17,
      "metadata": {
        "id": "9sar89Up03Yy"
      },
      "outputs": [],
      "source": [
        "#parameters of model\n",
        "num_classes = len(Y.columns)\n",
        "weight_vector = np.ones((num_classes,len(X.columns))) # -> 3 classes 3 weight vectors  \n",
        "alpha = 0.1 #-> learning rate\n",
        "num_epochs = 2000"
      ]
    },
    {
      "cell_type": "code",
      "execution_count": 18,
      "metadata": {
        "id": "QyngHPkz1k-k"
      },
      "outputs": [],
      "source": [
        "from scipy.special import softmax\n",
        "\n",
        "#defining cross entropy loss\n",
        "def cross_entropy_loss(weight_vector,x_i,y_i):\n",
        "  z = np.dot(weight_vector,x_i)\n",
        "  predicted_distribution = softmax(z)\n",
        "  loss = -np.dot(y_i,np.log(predicted_distribution))\n",
        "  return loss\n",
        "\n",
        "#defining total loss\n",
        "def total_loss(weight_vector,X,Y):\n",
        "  if len(X) !=len(Y):\n",
        "    print('Please input valid dataset.Input-output data length not matching')\n",
        "    return\n",
        "  \n",
        "  total_loss = 0\n",
        "  for i in range(len(X)):\n",
        "\n",
        "    total_loss += cross_entropy_loss(weight_vector,np.array(X.iloc[i]),np.array(Y.iloc[i]))\n",
        "\n",
        "  total_loss = total_loss/len(X)\n",
        "\n",
        "  return total_loss\n",
        "\n",
        "#Batch gradient descent for Multiclass classification\n",
        "def gradient_descent_multiclass(X,Y,alpha,num_epochs):\n",
        "  if len(X) !=len(Y):\n",
        "    print('Please input valid dataset.Input-output data length not matching')\n",
        "    return\n",
        "  \n",
        "  weight_vector = np.ones((num_classes,len(X.columns))) # -> here 3 classes, so 3 weight vectors  \n",
        "  loss = []\n",
        "  for epoch in range(num_epochs):\n",
        "    for j in range(len(weight_vector)):\n",
        "      sum = np.zeros(len(weight_vector[j]))\n",
        "      for i in range(len(X)):\n",
        "        class_y = np.argmax(np.array(Y.iloc[i]))\n",
        "        a = 1 if class_y == j else 0\n",
        "\n",
        "        sum += (a - softmax(np.dot(weight_vector,np.array(X.iloc[i])))[j])*np.array(X.iloc[i])\n",
        "      \n",
        "      weight_vector[j] += (alpha*(1/len(X))*sum)\n",
        "\n",
        "    loss.append(total_loss(weight_vector,X,Y))  \n",
        "  \n",
        "  return weight_vector,loss\n",
        "\n",
        "\n",
        "#Stochastic gradient descent for Multiclass classification\n",
        "def gradient_descent_multiclass_sgd(X,Y,alpha,num_epochs):\n",
        "  if len(X) !=len(Y):\n",
        "    print('Please input valid dataset.Input-output data length not matching')\n",
        "    return\n",
        "  \n",
        "  weight_vector = np.ones((num_classes,len(X.columns))) # -> here 3 classes, so 3 weight vectors  \n",
        "  loss = []\n",
        "  for epoch in range(num_epochs):\n",
        "    for j in range(len(weight_vector)):\n",
        "      for i in range(len(X)):\n",
        "        class_y = np.argmax(np.array(Y.iloc[i]))\n",
        "        a = 1 if class_y == j else 0\n",
        "\n",
        "        sum = (a - softmax(np.dot(weight_vector,np.array(X.iloc[i])))[j])*np.array(X.iloc[i])\n",
        "      \n",
        "        weight_vector[j] += (alpha*(1/len(X))*sum)\n",
        "\n",
        "    loss.append(total_loss(weight_vector,X,Y))  \n",
        "  \n",
        "  return weight_vector,loss\n",
        "\n",
        "\n",
        "\n",
        "\n"
      ]
    },
    {
      "cell_type": "code",
      "execution_count": 19,
      "metadata": {
        "id": "HDtCXb2lDtOp"
      },
      "outputs": [],
      "source": [
        "weights,loss =  gradient_descent_multiclass(X,Y,alpha,num_epochs)   #Caluclating the weights and loss for Batch gradient descent"
      ]
    },
    {
      "cell_type": "code",
      "execution_count": 20,
      "metadata": {
        "id": "yFWUdTZW-ThF"
      },
      "outputs": [],
      "source": [
        "weights_sgd,loss_sgd =  gradient_descent_multiclass_sgd(X,Y,alpha,num_epochs)   #Caluclating loss and weights for stochastic gradient descent"
      ]
    },
    {
      "cell_type": "code",
      "execution_count": 22,
      "metadata": {
        "colab": {
          "base_uri": "https://localhost:8080/",
          "height": 334
        },
        "id": "mgXZzEpiD4UT",
        "outputId": "5646fe28-fa05-460f-d77f-9b2c3a737089"
      },
      "outputs": [
        {
          "output_type": "display_data",
          "data": {
            "text/plain": [
              "<Figure size 1080x360 with 2 Axes>"
            ],
            "image/png": "[encoded data removed]"
          },
          "metadata": {
            "needs_background": "light"
          }
        }
      ],
      "source": [
        "import matplotlib.pyplot as plt\n",
        "\n",
        "#Comparing loss GD and SGD\n",
        "\n",
        "plt.figure(figsize = (15,5))\n",
        "plt.subplot(121)\n",
        "plt.plot(np.arange(num_epochs),loss)\n",
        "plt.xlabel(\"Number of epochs\")\n",
        "plt.ylabel(\"Total Loss - GD\")\n",
        "\n",
        "plt.subplot(122)\n",
        "plt.plot(np.arange(num_epochs),loss_sgd)\n",
        "plt.xlabel(\"Number of epochs\")\n",
        "plt.ylabel(\"Total Loss - SGD\")\n",
        "plt.show()"
      ]
    },
    {
      "cell_type": "code",
      "source": [
        "print('Weights - Batch Gradient descent: ',weights)\n",
        "print('Weights - Stochastic gradient descent: ',weights_sgd)"
      ],
      "metadata": {
        "colab": {
          "base_uri": "https://localhost:8080/"
        },
        "id": "pynkLB4mIUOP",
        "outputId": "0bb12dd9-b817-43b5-eb36-b20dec979ab4"
      },
      "execution_count": 23,
      "outputs": [
        {
          "output_type": "stream",
          "name": "stdout",
          "text": [
            "Weights - Batch Gradient descent:  [[ 2.20844646  3.58154642 -2.39350083 -0.60471481  1.54272386]\n",
            " [ 1.93438497  0.97668406  0.83466087 -0.55586504  2.05030822]\n",
            " [-0.86595789 -1.40640597  4.71786048  4.20758827 -0.54423015]]\n",
            "Weights - Stochastic gradient descent:  [[ 2.29350122  3.62413741 -2.31102236 -0.56959955  1.55468922]\n",
            " [ 2.03937489  1.00428881  0.89745592 -0.50149184  2.03929877]\n",
            " [-0.78850864 -1.37711063  4.852453    4.20505549 -0.51376314]]\n"
          ]
        }
      ]
    },
    {
      "cell_type": "code",
      "execution_count": 24,
      "metadata": {
        "id": "lRcpV-YXFTVe"
      },
      "outputs": [],
      "source": [
        "#return predictions based on weights\n",
        "def predict_multiclass_regression(weight_vector,X):\n",
        "  \n",
        "  pred = []\n",
        "  for i in range(len(X)):\n",
        "    arr = []\n",
        "    for j in range(len(weight_vector)):\n",
        "      arr.append(np.dot(weight_vector[j],X[i]))\n",
        "    arr = softmax(arr)\n",
        "    pred.append(np.argmax(arr))\n",
        "\n",
        "  return pred\n",
        "\n",
        "def convert_Y_test(Y_test):\n",
        "  test = np.array(Y_test)\n",
        "  Y_test = [np.argmax(i) for i in test]\n",
        "  \n",
        "  return Y_test"
      ]
    },
    {
      "cell_type": "code",
      "execution_count": 25,
      "metadata": {
        "colab": {
          "base_uri": "https://localhost:8080/",
          "height": 336
        },
        "id": "SX5xS0miJkhR",
        "outputId": "aa64215e-67a7-4d5c-a449-96cecb4e4c94"
      },
      "outputs": [
        {
          "output_type": "display_data",
          "data": {
            "text/plain": [
              "<Figure size 1080x360 with 4 Axes>"
            ],
            "image/png": "[encoded data removed]"
          },
          "metadata": {
            "needs_background": "light"
          }
        }
      ],
      "source": [
        "from sklearn.metrics import confusion_matrix\n",
        "import seaborn as sns\n",
        "#Plotting the confusion matrix for both SGD and GD\n",
        "\n",
        "cm = confusion_matrix(convert_Y_test(Y),predict_multiclass_regression(weights,np.array(X)))\n",
        "plt.figure(figsize = (15,5))\n",
        "plt.subplot(121)\n",
        "plt.title(\"Batch Gradient descent - confusion matrix\")\n",
        "sns.heatmap(cm, annot = True, cbar = True)\n",
        "\n",
        "cm_sgd = confusion_matrix(convert_Y_test(Y),predict_multiclass_regression(weights_sgd,np.array(X)))\n",
        "plt.subplot(122)\n",
        "plt.title(\"Stochastic Gradient descent - confusion matrix\")\n",
        "sns.heatmap(cm, annot = True, cbar = True)\n",
        "plt.show()"
      ]
    },
    {
      "cell_type": "code",
      "execution_count": 26,
      "metadata": {
        "colab": {
          "base_uri": "https://localhost:8080/"
        },
        "id": "F8cN2uqNKmEw",
        "outputId": "f68f0976-359b-4f93-84c7-1311ea08f22e"
      },
      "outputs": [
        {
          "output_type": "stream",
          "name": "stdout",
          "text": [
            "Accuracy obtained from batch gradient descent:  0.9866666666666667\n",
            "Accuracy obtained from Stochastic gradient descent:  0.98\n"
          ]
        }
      ],
      "source": [
        "from sklearn.metrics import accuracy_score\n",
        "\n",
        "\n",
        "print(\"Accuracy obtained from batch gradient descent: \", accuracy_score(convert_Y_test(Y),predict_multiclass_regression(weights,np.array(X))))\n",
        "print(\"Accuracy obtained from Stochastic gradient descent: \", accuracy_score(convert_Y_test(Y),predict_multiclass_regression(weights_sgd,np.array(X))))"
      ]
    }
  ],
  "metadata": {
    "colab": {
      "provenance": []
    },
    "kernelspec": {
      "display_name": "Python 3",
      "name": "python3"
    },
    "language_info": {
      "name": "python"
    }
  },
  "nbformat": 4,
  "nbformat_minor": 0
}