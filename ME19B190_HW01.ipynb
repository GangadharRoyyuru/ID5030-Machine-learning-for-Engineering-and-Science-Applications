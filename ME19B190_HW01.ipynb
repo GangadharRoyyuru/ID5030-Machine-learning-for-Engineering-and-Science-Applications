{
  "nbformat": 4,
  "nbformat_minor": 0,
  "metadata": {
    "colab": {
      "provenance": []
    },
    "kernelspec": {
      "name": "python3",
      "display_name": "Python 3"
    },
    "language_info": {
      "name": "python"
    }
  },
  "cells": [
    {
      "cell_type": "code",
      "execution_count": null,
      "metadata": {
        "id": "-RXXZd0ey5x0"
      },
      "outputs": [],
      "source": [
        "import pandas as pd\n",
        "import numpy as np\n",
        "import matplotlib.pyplot as plt\n",
        "import seaborn as sns"
      ]
    },
    {
      "cell_type": "markdown",
      "source": [
        "Loading DataSet...\n"
      ],
      "metadata": {
        "id": "V60seGG4zUzW"
      }
    },
    {
      "cell_type": "code",
      "source": [
        "data = pd.read_excel(\"Concrete_Data.xls\")"
      ],
      "metadata": {
        "id": "8rn_kgmHzXja"
      },
      "execution_count": null,
      "outputs": []
    },
    {
      "cell_type": "code",
      "source": [
        "data.columns"
      ],
      "metadata": {
        "colab": {
          "base_uri": "https://localhost:8080/"
        },
        "id": "BHNcmtanz7RE",
        "outputId": "dfaee3b5-3068-4a39-826b-ed604abd5413"
      },
      "execution_count": null,
      "outputs": [
        {
          "output_type": "execute_result",
          "data": {
            "text/plain": [
              "Index(['Cement (component 1)(kg in a m^3 mixture)',\n",
              "       'Blast Furnace Slag (component 2)(kg in a m^3 mixture)',\n",
              "       'Fly Ash (component 3)(kg in a m^3 mixture)',\n",
              "       'Water  (component 4)(kg in a m^3 mixture)',\n",
              "       'Superplasticizer (component 5)(kg in a m^3 mixture)',\n",
              "       'Coarse Aggregate  (component 6)(kg in a m^3 mixture)',\n",
              "       'Fine Aggregate (component 7)(kg in a m^3 mixture)', 'Age (day)',\n",
              "       'Concrete compressive strength(MPa, megapascals) '],\n",
              "      dtype='object')"
            ]
          },
          "metadata": {},
          "execution_count": 3
        }
      ]
    },
    {
      "cell_type": "code",
      "source": [
        "data.info()"
      ],
      "metadata": {
        "colab": {
          "base_uri": "https://localhost:8080/"
        },
        "id": "OV8aitYvE4-W",
        "outputId": "1f8c7325-c988-48a9-cd86-1c52183c5a03"
      },
      "execution_count": null,
      "outputs": [
        {
          "output_type": "stream",
          "name": "stdout",
          "text": [
            "<class 'pandas.core.frame.DataFrame'>\n",
            "RangeIndex: 1030 entries, 0 to 1029\n",
            "Data columns (total 9 columns):\n",
            " #   Column                                                 Non-Null Count  Dtype  \n",
            "---  ------                                                 --------------  -----  \n",
            " 0   Cement (component 1)(kg in a m^3 mixture)              1030 non-null   float64\n",
            " 1   Blast Furnace Slag (component 2)(kg in a m^3 mixture)  1030 non-null   float64\n",
            " 2   Fly Ash (component 3)(kg in a m^3 mixture)             1030 non-null   float64\n",
            " 3   Water  (component 4)(kg in a m^3 mixture)              1030 non-null   float64\n",
            " 4   Superplasticizer (component 5)(kg in a m^3 mixture)    1030 non-null   float64\n",
            " 5   Coarse Aggregate  (component 6)(kg in a m^3 mixture)   1030 non-null   float64\n",
            " 6   Fine Aggregate (component 7)(kg in a m^3 mixture)      1030 non-null   float64\n",
            " 7   Age (day)                                              1030 non-null   int64  \n",
            " 8   Concrete compressive strength(MPa, megapascals)        1030 non-null   float64\n",
            "dtypes: float64(8), int64(1)\n",
            "memory usage: 72.5 KB\n"
          ]
        }
      ]
    },
    {
      "cell_type": "markdown",
      "source": [
        "**Observations:**\n",
        "1. Different Features have different units. Thus all the features must be converted to non-dimensional quantitites for effective interpretation of caluclated weights in Linear Regression. Min-Max scaling(sklearn.preprocessing.MinMaxScaler) might be the simplest form of scaling to convert all feature values to dimensionaless quantities . StandardScalar can also be used to make the features dimensionless\n",
        "\n",
        "**Task at Hand:**\n",
        "1. Identify multi collinearity between features\n",
        "2. Identify important features( Feature extraction)\n",
        "3. Split the data to train and test set - sklearn.model_selection.train_test_split.\n",
        "\n",
        "Based on instructions given in class, steps 1 and 2 are not being explored for this assignment. In general, statistical techniques like Variance inflation Factor and  ANOVA test can be use to identify multicollinearity and obtain important features\n"
      ],
      "metadata": {
        "id": "VypiblBLz_FX"
      }
    },
    {
      "cell_type": "markdown",
      "source": [
        "1. Divide the dataset into Training, Test datasets using a\n",
        "70:30 ratio."
      ],
      "metadata": {
        "id": "GQcV-eWAELk7"
      }
    },
    {
      "cell_type": "code",
      "source": [
        "# Split data to train and test\n",
        "from sklearn.model_selection import train_test_split\n",
        "\n",
        "X = data.drop(columns=['Concrete compressive strength(MPa, megapascals) '],axis = 1)\n",
        "y = data['Concrete compressive strength(MPa, megapascals) ']\n",
        "\n",
        "X_train,X_test,Y_train,Y_test = train_test_split(X,y,test_size = 0.3) #train size = 70% and test size = 30%"
      ],
      "metadata": {
        "id": "yBn1TKqpz9Co"
      },
      "execution_count": null,
      "outputs": []
    },
    {
      "cell_type": "code",
      "source": [
        "train = X_train.copy(deep = True)\n",
        "train['Concrete compressive strength(MPa, megapascals) '] = Y_train\n",
        "\n",
        "test = X_test.copy(deep = True)\n",
        "test['Concrete compressive strength(MPa, megapascals) '] = Y_test"
      ],
      "metadata": {
        "id": "JbjKrfVPT1tp"
      },
      "execution_count": null,
      "outputs": []
    },
    {
      "cell_type": "markdown",
      "source": [
        "**Using MinMax scaler to make the features dimensionless:**\n",
        "\n",
        "Now let us make use of MinMax scaler to make the features dimensionless\n",
        "\n",
        "\n"
      ],
      "metadata": {
        "id": "2jALaNCXk5nD"
      }
    },
    {
      "cell_type": "code",
      "source": [
        "#Using MinMaxScaler to transpose the features to a dimensionless form\n",
        "\n",
        "from sklearn.preprocessing import MinMaxScaler\n",
        "\n",
        "scaler= MinMaxScaler()\n",
        "#Transform X_train\n",
        "train_scaled = pd.DataFrame(scaler.fit_transform(train), columns = train.columns)\n",
        "#Transforming X_test\n",
        "test_scaled = pd.DataFrame(scaler.transform(test), columns = test.columns)"
      ],
      "metadata": {
        "id": "cDmpjIKn2Ldp"
      },
      "execution_count": null,
      "outputs": []
    },
    {
      "cell_type": "markdown",
      "source": [
        "**Model building**\n",
        "\n",
        "2. Obtain a linear regression fit for predicting the compressive strength from\n",
        "fitting the linear regression model on just the Training dataset."
      ],
      "metadata": {
        "id": "Kv9dC0hcCk2Z"
      }
    },
    {
      "cell_type": "code",
      "source": [
        "from sklearn.linear_model import LinearRegression"
      ],
      "metadata": {
        "id": "Pae0CuQtCpc7"
      },
      "execution_count": null,
      "outputs": []
    },
    {
      "cell_type": "code",
      "source": [
        "#train data is X_train_scaled\n",
        "X_train_scaled = train_scaled.drop(columns=['Concrete compressive strength(MPa, megapascals) '],axis = 1)\n",
        "Y_train_scaled = train_scaled['Concrete compressive strength(MPa, megapascals) ']\n",
        "model = LinearRegression()\n",
        "model.fit(X_train_scaled,Y_train_scaled)\n"
      ],
      "metadata": {
        "colab": {
          "base_uri": "https://localhost:8080/"
        },
        "id": "ZsIn0zkvCzC2",
        "outputId": "9d2f6038-b70c-43bb-daa0-a1c112b5116f"
      },
      "execution_count": null,
      "outputs": [
        {
          "output_type": "execute_result",
          "data": {
            "text/plain": [
              "LinearRegression()"
            ]
          },
          "metadata": {},
          "execution_count": 9
        }
      ]
    },
    {
      "cell_type": "markdown",
      "source": [
        "**Determining the co-efficent of determination for train and test data**"
      ],
      "metadata": {
        "id": "aQP1Ro2hDFVY"
      }
    },
    {
      "cell_type": "code",
      "source": [
        "#co-efficent of determination on train data\n",
        "model.score(X_train_scaled,Y_train_scaled)"
      ],
      "metadata": {
        "colab": {
          "base_uri": "https://localhost:8080/"
        },
        "id": "emM0VXxbDDw_",
        "outputId": "97b8184f-11e0-4a3d-97e8-ef6ea4b425c4"
      },
      "execution_count": null,
      "outputs": [
        {
          "output_type": "execute_result",
          "data": {
            "text/plain": [
              "0.6152930223514669"
            ]
          },
          "metadata": {},
          "execution_count": 10
        }
      ]
    },
    {
      "cell_type": "code",
      "source": [
        "X_test_scaled = test_scaled.drop(columns=['Concrete compressive strength(MPa, megapascals) '],axis = 1)\n",
        "Y_test_scaled = test_scaled['Concrete compressive strength(MPa, megapascals) ']"
      ],
      "metadata": {
        "id": "p3gjIfIRWAC_"
      },
      "execution_count": null,
      "outputs": []
    },
    {
      "cell_type": "code",
      "source": [
        "#co-efficent of determination on test data\n",
        "model.score(X_test_scaled,Y_test_scaled)"
      ],
      "metadata": {
        "colab": {
          "base_uri": "https://localhost:8080/"
        },
        "id": "J0C49auFDhrj",
        "outputId": "900ca3db-48c2-4ab2-98a8-0ca2beb9e181"
      },
      "execution_count": null,
      "outputs": [
        {
          "output_type": "execute_result",
          "data": {
            "text/plain": [
              "0.6080017936179676"
            ]
          },
          "metadata": {},
          "execution_count": 12
        }
      ]
    },
    {
      "cell_type": "markdown",
      "source": [
        "We have the output in the range [0-1], thus we have to convert the output to obtain the original prediction that is returned by the model by performing inverse transform."
      ],
      "metadata": {
        "id": "-lk-W3NXZDK2"
      }
    },
    {
      "cell_type": "markdown",
      "source": [
        "4. **Obtain the following values.**\n",
        "\n",
        "  a. Mean Squared error and R-squared value for training data and test\n",
        "data respectively.\n",
        "\n",
        "  b. Plot the scatter plot for y_true against y_predicted\n",
        "for training and test data\n",
        "respectively.\n"
      ],
      "metadata": {
        "id": "DVh2doPDEaGL"
      }
    },
    {
      "cell_type": "code",
      "source": [
        "# Performing inverse transform to obtain the predictions with units (MPa) on test data\n",
        "Y_pred_scaled = model.predict(X_test_scaled)\n",
        "temp_df = X_test_scaled.copy(deep = True)\n",
        "temp_df['Concrete compressive strength(MPa, megapascals) '] = Y_pred_scaled\n",
        "temp_df = pd.DataFrame(scaler.inverse_transform(temp_df),columns = temp_df.columns)\n",
        "Y_pred = temp_df['Concrete compressive strength(MPa, megapascals) ']\n",
        "\n",
        "# Performing inverse transform to obtain the predictions with units (MPa) on test data\n",
        "\n",
        "Y_pred_scaled = model.predict(X_train_scaled)\n",
        "temp_df = X_train_scaled.copy(deep = True)\n",
        "temp_df['Concrete compressive strength(MPa, megapascals) '] = Y_pred_scaled\n",
        "temp_df = pd.DataFrame(scaler.inverse_transform(temp_df),columns = temp_df.columns)\n",
        "Y_train_pred = temp_df['Concrete compressive strength(MPa, megapascals) ']"
      ],
      "metadata": {
        "id": "6QNkqMYMWM8M"
      },
      "execution_count": null,
      "outputs": []
    },
    {
      "cell_type": "markdown",
      "source": [
        "Evaluating R-squared and mean squared error for train and test data"
      ],
      "metadata": {
        "id": "ec3x2K1vbD8h"
      }
    },
    {
      "cell_type": "code",
      "source": [
        "from sklearn.metrics import mean_squared_error\n",
        "from sklearn.metrics import r2_score\n",
        "\n",
        "#We train Y_train, Y_test, Y_train_pred,Y_pred\n",
        "a = np.zeros([2,2])\n",
        "a[0,0] = mean_squared_error(Y_train,Y_train_pred)\n",
        "a[0,1] = r2_score(Y_train,Y_train_pred)\n",
        "a[1,0] = mean_squared_error(Y_test,Y_pred)\n",
        "a[1,1] = r2_score(Y_test,Y_pred)\n",
        "\n",
        "table = pd.DataFrame(a,columns =['mean squared error(in (MPa*MPa))', 'r2 score'],index = ['train data','test data'])\n",
        "table"
      ],
      "metadata": {
        "colab": {
          "base_uri": "https://localhost:8080/",
          "height": 112
        },
        "id": "vLnt-7OqbOKh",
        "outputId": "e25d46c8-8c9f-479b-ca36-82f8a26ebb06"
      },
      "execution_count": null,
      "outputs": [
        {
          "output_type": "execute_result",
          "data": {
            "text/plain": [
              "            mean squared error(in (MPa*MPa))  r2 score\n",
              "train data                        102.421293  0.615293\n",
              "test data                         120.744120  0.608002"
            ],
            "text/html": [
              "\n",
              "  <div id=\"df-d5f01e8e-b906-48ee-8e5e-95db94e3d5ae\">\n",
              "    <div class=\"colab-df-container\">\n",
              "      <div>\n",
              "<style scoped>\n",
              "    .dataframe tbody tr th:only-of-type {\n",
              "        vertical-align: middle;\n",
              "    }\n",
              "\n",
              "    .dataframe tbody tr th {\n",
              "        vertical-align: top;\n",
              "    }\n",
              "\n",
              "    .dataframe thead th {\n",
              "        text-align: right;\n",
              "    }\n",
              "</style>\n",
              "<table border=\"1\" class=\"dataframe\">\n",
              "  <thead>\n",
              "    <tr style=\"text-align: right;\">\n",
              "      <th></th>\n",
              "      <th>mean squared error(in (MPa*MPa))</th>\n",
              "      <th>r2 score</th>\n",
              "    </tr>\n",
              "  </thead>\n",
              "  <tbody>\n",
              "    <tr>\n",
              "      <th>train data</th>\n",
              "      <td>102.421293</td>\n",
              "      <td>0.615293</td>\n",
              "    </tr>\n",
              "    <tr>\n",
              "      <th>test data</th>\n",
              "      <td>120.744120</td>\n",
              "      <td>0.608002</td>\n",
              "    </tr>\n",
              "  </tbody>\n",
              "</table>\n",
              "</div>\n",
              "      <button class=\"colab-df-convert\" onclick=\"convertToInteractive('df-d5f01e8e-b906-48ee-8e5e-95db94e3d5ae')\"\n",
              "              title=\"Convert this dataframe to an interactive table.\"\n",
              "              style=\"display:none;\">\n",
              "        \n",
              "  <svg xmlns=\"http://www.w3.org/2000/svg\" height=\"24px\"viewBox=\"0 0 24 24\"\n",
              "       width=\"24px\">\n",
              "    <path d=\"M0 0h24v24H0V0z\" fill=\"none\"/>\n",
              "    <path d=\"M18.56 5.44l.94 2.06.94-2.06 2.06-.94-2.06-.94-.94-2.06-.94 2.06-2.06.94zm-11 1L8.5 8.5l.94-2.06 2.06-.94-2.06-.94L8.5 2.5l-.94 2.06-2.06.94zm10 10l.94 2.06.94-2.06 2.06-.94-2.06-.94-.94-2.06-.94 2.06-2.06.94z\"/><path d=\"M17.41 7.96l-1.37-1.37c-.4-.4-.92-.59-1.43-.59-.52 0-1.04.2-1.43.59L10.3 9.45l-7.72 7.72c-.78.78-.78 2.05 0 2.83L4 21.41c.39.39.9.59 1.41.59.51 0 1.02-.2 1.41-.59l7.78-7.78 2.81-2.81c.8-.78.8-2.07 0-2.86zM5.41 20L4 18.59l7.72-7.72 1.47 1.35L5.41 20z\"/>\n",
              "  </svg>\n",
              "      </button>\n",
              "      \n",
              "  <style>\n",
              "    .colab-df-container {\n",
              "      display:flex;\n",
              "      flex-wrap:wrap;\n",
              "      gap: 12px;\n",
              "    }\n",
              "\n",
              "    .colab-df-convert {\n",
              "      background-color: #E8F0FE;\n",
              "      border: none;\n",
              "      border-radius: 50%;\n",
              "      cursor: pointer;\n",
              "      display: none;\n",
              "      fill: #1967D2;\n",
              "      height: 32px;\n",
              "      padding: 0 0 0 0;\n",
              "      width: 32px;\n",
              "    }\n",
              "\n",
              "    .colab-df-convert:hover {\n",
              "      background-color: #E2EBFA;\n",
              "      box-shadow: 0px 1px 2px rgba(60, 64, 67, 0.3), 0px 1px 3px 1px rgba(60, 64, 67, 0.15);\n",
              "      fill: #174EA6;\n",
              "    }\n",
              "\n",
              "    [theme=dark] .colab-df-convert {\n",
              "      background-color: #3B4455;\n",
              "      fill: #D2E3FC;\n",
              "    }\n",
              "\n",
              "    [theme=dark] .colab-df-convert:hover {\n",
              "      background-color: #434B5C;\n",
              "      box-shadow: 0px 1px 3px 1px rgba(0, 0, 0, 0.15);\n",
              "      filter: drop-shadow(0px 1px 2px rgba(0, 0, 0, 0.3));\n",
              "      fill: #FFFFFF;\n",
              "    }\n",
              "  </style>\n",
              "\n",
              "      <script>\n",
              "        const buttonEl =\n",
              "          document.querySelector('#df-d5f01e8e-b906-48ee-8e5e-95db94e3d5ae button.colab-df-convert');\n",
              "        buttonEl.style.display =\n",
              "          google.colab.kernel.accessAllowed ? 'block' : 'none';\n",
              "\n",
              "        async function convertToInteractive(key) {\n",
              "          const element = document.querySelector('#df-d5f01e8e-b906-48ee-8e5e-95db94e3d5ae');\n",
              "          const dataTable =\n",
              "            await google.colab.kernel.invokeFunction('convertToInteractive',\n",
              "                                                     [key], {});\n",
              "          if (!dataTable) return;\n",
              "\n",
              "          const docLinkHtml = 'Like what you see? Visit the ' +\n",
              "            '<a target=\"_blank\" href=https://colab.research.google.com/notebooks/data_table.ipynb>data table notebook</a>'\n",
              "            + ' to learn more about interactive tables.';\n",
              "          element.innerHTML = '';\n",
              "          dataTable['output_type'] = 'display_data';\n",
              "          await google.colab.output.renderOutput(dataTable, element);\n",
              "          const docLink = document.createElement('div');\n",
              "          docLink.innerHTML = docLinkHtml;\n",
              "          element.appendChild(docLink);\n",
              "        }\n",
              "      </script>\n",
              "    </div>\n",
              "  </div>\n",
              "  "
            ]
          },
          "metadata": {},
          "execution_count": 14
        }
      ]
    },
    {
      "cell_type": "markdown",
      "source": [
        "Data Visualization:"
      ],
      "metadata": {
        "id": "EvOR_B_leV_4"
      }
    },
    {
      "cell_type": "code",
      "source": [
        "#y_true vs y_pred for training data\n",
        "plt.figure(figsize=(6,6))\n",
        "plt.scatter(Y_train,Y_train_pred)\n",
        "plt.xlabel(\"True value of training data\")\n",
        "plt.ylabel(\"Predicted value of training data\")\n",
        "plt.show()"
      ],
      "metadata": {
        "colab": {
          "base_uri": "https://localhost:8080/",
          "height": 388
        },
        "id": "wYsd43QseasB",
        "outputId": "21352cfe-9b57-4184-f7d6-71fba920f410"
      },
      "execution_count": null,
      "outputs": [
        {
          "output_type": "display_data",
          "data": {
            "text/plain": [
              "<Figure size 432x432 with 1 Axes>"
            ],
            "image/png": "[encoded data removed]"
          },
          "metadata": {
            "needs_background": "light"
          }
        }
      ]
    },
    {
      "cell_type": "code",
      "source": [
        "#y_true vs y_pred for test data\n",
        "plt.figure(figsize=(6,6))\n",
        "plt.scatter(Y_test,Y_pred)\n",
        "plt.xlabel(\"True value of test data\")\n",
        "plt.ylabel(\"Predicted value of test data\")\n",
        "plt.show()"
      ],
      "metadata": {
        "colab": {
          "base_uri": "https://localhost:8080/",
          "height": 388
        },
        "id": "DWt-fcqce03c",
        "outputId": "69e0881e-f3d5-4027-cd0c-f26c389071d9"
      },
      "execution_count": null,
      "outputs": [
        {
          "output_type": "display_data",
          "data": {
            "text/plain": [
              "<Figure size 432x432 with 1 Axes>"
            ],
            "image/png": "[encoded data removed]"
          },
          "metadata": {
            "needs_background": "light"
          }
        }
      ]
    },
    {
      "cell_type": "markdown",
      "source": [
        "**Using standard scaler to make the features dimensionless:**  \n",
        "Now let us make use of Standard scaler to convert make the features dimensionless"
      ],
      "metadata": {
        "id": "ZsIgs4S-utOL"
      }
    },
    {
      "cell_type": "code",
      "source": [
        "from sklearn.preprocessing import StandardScaler\n",
        "\n",
        "std_scaler= StandardScaler()\n",
        "#Transform X_train\n",
        "train_scaled = pd.DataFrame(std_scaler.fit_transform(train), columns = train.columns)\n",
        "#Transforming X_test\n",
        "test_scaled = pd.DataFrame(std_scaler.transform(test), columns = test.columns)"
      ],
      "metadata": {
        "id": "ZsUvJCI8vEVz"
      },
      "execution_count": null,
      "outputs": []
    },
    {
      "cell_type": "markdown",
      "source": [
        "**Model building**\n",
        "\n",
        "2. Obtain a linear regression fit for predicting the compressive strength from\n",
        "fitting the linear regression model on just the Training dataset."
      ],
      "metadata": {
        "id": "d3fWfkaavfNo"
      }
    },
    {
      "cell_type": "code",
      "source": [
        "#train data is X_train_scaled\n",
        "X_train_scaled = train_scaled.drop(columns=['Concrete compressive strength(MPa, megapascals) '],axis = 1)\n",
        "Y_train_scaled = train_scaled['Concrete compressive strength(MPa, megapascals) ']\n",
        "model_std = LinearRegression()\n",
        "model_std.fit(X_train_scaled,Y_train_scaled)"
      ],
      "metadata": {
        "colab": {
          "base_uri": "https://localhost:8080/"
        },
        "id": "PVEHx60Kvg26",
        "outputId": "aee07c80-e752-40c0-b1fc-bd071b830bf2"
      },
      "execution_count": null,
      "outputs": [
        {
          "output_type": "execute_result",
          "data": {
            "text/plain": [
              "LinearRegression()"
            ]
          },
          "metadata": {},
          "execution_count": 18
        }
      ]
    },
    {
      "cell_type": "markdown",
      "source": [
        "Determining co-efficient of determination on train and test data"
      ],
      "metadata": {
        "id": "gXzkvlkKvuiu"
      }
    },
    {
      "cell_type": "code",
      "source": [
        "#co-efficent of determination on train data\n",
        "model_std.score(X_train_scaled,Y_train_scaled)"
      ],
      "metadata": {
        "colab": {
          "base_uri": "https://localhost:8080/"
        },
        "id": "DWYFDH55vzND",
        "outputId": "1386bacd-80fd-421b-e353-961a41d90570"
      },
      "execution_count": null,
      "outputs": [
        {
          "output_type": "execute_result",
          "data": {
            "text/plain": [
              "0.6152930223514669"
            ]
          },
          "metadata": {},
          "execution_count": 19
        }
      ]
    },
    {
      "cell_type": "code",
      "source": [
        "X_test_scaled = test_scaled.drop(columns=['Concrete compressive strength(MPa, megapascals) '],axis = 1)\n",
        "Y_test_scaled = test_scaled['Concrete compressive strength(MPa, megapascals) ']"
      ],
      "metadata": {
        "id": "JZQLEpclv2br"
      },
      "execution_count": null,
      "outputs": []
    },
    {
      "cell_type": "code",
      "source": [
        "#co-efficent of determination on test data\n",
        "model_std.score(X_test_scaled,Y_test_scaled)"
      ],
      "metadata": {
        "colab": {
          "base_uri": "https://localhost:8080/"
        },
        "id": "B59s_IBmv6KG",
        "outputId": "339ceb7b-2c0e-4aca-edbc-1258be40d568"
      },
      "execution_count": null,
      "outputs": [
        {
          "output_type": "execute_result",
          "data": {
            "text/plain": [
              "0.6080017936179678"
            ]
          },
          "metadata": {},
          "execution_count": 21
        }
      ]
    },
    {
      "cell_type": "markdown",
      "source": [
        "4. **Obtain the following values.**\n",
        "\n",
        "  a. Mean Squared error and R-squared value for training data and test\n",
        "data respectively.\n",
        "\n",
        "  b. Plot the scatter plot for y_true against y_predicted\n",
        "for training and test data\n",
        "respectively.\n"
      ],
      "metadata": {
        "id": "f57xw2MdE6oi"
      }
    },
    {
      "cell_type": "code",
      "source": [
        "# Performing inverse transform to obtain the predictions with units (MPa) on test data\n",
        "Y_pred_scaled = model_std.predict(X_test_scaled)\n",
        "temp_df = X_test_scaled.copy(deep = True)\n",
        "temp_df['Concrete compressive strength(MPa, megapascals) '] = Y_pred_scaled\n",
        "temp_df = pd.DataFrame(std_scaler.inverse_transform(temp_df),columns = temp_df.columns)\n",
        "Y_pred = temp_df['Concrete compressive strength(MPa, megapascals) ']\n",
        "\n",
        "# Performing inverse transform to obtain the predictions with units (MPa) on test data\n",
        "\n",
        "Y_pred_scaled = model_std.predict(X_train_scaled)\n",
        "temp_df = X_train_scaled.copy(deep = True)\n",
        "temp_df['Concrete compressive strength(MPa, megapascals) '] = Y_pred_scaled\n",
        "temp_df = pd.DataFrame(std_scaler.inverse_transform(temp_df),columns = temp_df.columns)\n",
        "Y_train_pred = temp_df['Concrete compressive strength(MPa, megapascals) ']"
      ],
      "metadata": {
        "id": "e2GwRWGKv-Qk"
      },
      "execution_count": null,
      "outputs": []
    },
    {
      "cell_type": "markdown",
      "source": [
        "Evaluating R-squared and mean squared error for train and test data"
      ],
      "metadata": {
        "id": "WcqXH8dFmeRx"
      }
    },
    {
      "cell_type": "code",
      "source": [
        "from sklearn.metrics import mean_squared_error\n",
        "from sklearn.metrics import r2_score\n",
        "Y_train = train['Concrete compressive strength(MPa, megapascals) ']\n",
        "Y_test = test['Concrete compressive strength(MPa, megapascals) ']\n",
        "#We train Y_train, Y_test, Y_train_pred,Y_pred\n",
        "a = np.zeros([2,2])\n",
        "a[0,0] = mean_squared_error(Y_train,Y_train_pred)\n",
        "a[0,1] = r2_score(Y_train,Y_train_pred)\n",
        "a[1,0] = mean_squared_error(Y_test,Y_pred)\n",
        "a[1,1] = r2_score(Y_test,Y_pred)\n",
        "\n",
        "table = pd.DataFrame(a,columns =['mean squared error(in (MPa*MPa))', 'r2 score'],index = ['train data','test data'])\n",
        "table"
      ],
      "metadata": {
        "colab": {
          "base_uri": "https://localhost:8080/",
          "height": 112
        },
        "id": "XDHPeVBrmYxo",
        "outputId": "31319cbd-3940-4f0a-81c1-69b5cce671e1"
      },
      "execution_count": null,
      "outputs": [
        {
          "output_type": "execute_result",
          "data": {
            "text/plain": [
              "            mean squared error(in (MPa*MPa))  r2 score\n",
              "train data                        102.421293  0.615293\n",
              "test data                         120.744120  0.608002"
            ],
            "text/html": [
              "\n",
              "  <div id=\"df-8d2b54eb-b347-4350-8307-bc816f928dc5\">\n",
              "    <div class=\"colab-df-container\">\n",
              "      <div>\n",
              "<style scoped>\n",
              "    .dataframe tbody tr th:only-of-type {\n",
              "        vertical-align: middle;\n",
              "    }\n",
              "\n",
              "    .dataframe tbody tr th {\n",
              "        vertical-align: top;\n",
              "    }\n",
              "\n",
              "    .dataframe thead th {\n",
              "        text-align: right;\n",
              "    }\n",
              "</style>\n",
              "<table border=\"1\" class=\"dataframe\">\n",
              "  <thead>\n",
              "    <tr style=\"text-align: right;\">\n",
              "      <th></th>\n",
              "      <th>mean squared error(in (MPa*MPa))</th>\n",
              "      <th>r2 score</th>\n",
              "    </tr>\n",
              "  </thead>\n",
              "  <tbody>\n",
              "    <tr>\n",
              "      <th>train data</th>\n",
              "      <td>102.421293</td>\n",
              "      <td>0.615293</td>\n",
              "    </tr>\n",
              "    <tr>\n",
              "      <th>test data</th>\n",
              "      <td>120.744120</td>\n",
              "      <td>0.608002</td>\n",
              "    </tr>\n",
              "  </tbody>\n",
              "</table>\n",
              "</div>\n",
              "      <button class=\"colab-df-convert\" onclick=\"convertToInteractive('df-8d2b54eb-b347-4350-8307-bc816f928dc5')\"\n",
              "              title=\"Convert this dataframe to an interactive table.\"\n",
              "              style=\"display:none;\">\n",
              "        \n",
              "  <svg xmlns=\"http://www.w3.org/2000/svg\" height=\"24px\"viewBox=\"0 0 24 24\"\n",
              "       width=\"24px\">\n",
              "    <path d=\"M0 0h24v24H0V0z\" fill=\"none\"/>\n",
              "    <path d=\"M18.56 5.44l.94 2.06.94-2.06 2.06-.94-2.06-.94-.94-2.06-.94 2.06-2.06.94zm-11 1L8.5 8.5l.94-2.06 2.06-.94-2.06-.94L8.5 2.5l-.94 2.06-2.06.94zm10 10l.94 2.06.94-2.06 2.06-.94-2.06-.94-.94-2.06-.94 2.06-2.06.94z\"/><path d=\"M17.41 7.96l-1.37-1.37c-.4-.4-.92-.59-1.43-.59-.52 0-1.04.2-1.43.59L10.3 9.45l-7.72 7.72c-.78.78-.78 2.05 0 2.83L4 21.41c.39.39.9.59 1.41.59.51 0 1.02-.2 1.41-.59l7.78-7.78 2.81-2.81c.8-.78.8-2.07 0-2.86zM5.41 20L4 18.59l7.72-7.72 1.47 1.35L5.41 20z\"/>\n",
              "  </svg>\n",
              "      </button>\n",
              "      \n",
              "  <style>\n",
              "    .colab-df-container {\n",
              "      display:flex;\n",
              "      flex-wrap:wrap;\n",
              "      gap: 12px;\n",
              "    }\n",
              "\n",
              "    .colab-df-convert {\n",
              "      background-color: #E8F0FE;\n",
              "      border: none;\n",
              "      border-radius: 50%;\n",
              "      cursor: pointer;\n",
              "      display: none;\n",
              "      fill: #1967D2;\n",
              "      height: 32px;\n",
              "      padding: 0 0 0 0;\n",
              "      width: 32px;\n",
              "    }\n",
              "\n",
              "    .colab-df-convert:hover {\n",
              "      background-color: #E2EBFA;\n",
              "      box-shadow: 0px 1px 2px rgba(60, 64, 67, 0.3), 0px 1px 3px 1px rgba(60, 64, 67, 0.15);\n",
              "      fill: #174EA6;\n",
              "    }\n",
              "\n",
              "    [theme=dark] .colab-df-convert {\n",
              "      background-color: #3B4455;\n",
              "      fill: #D2E3FC;\n",
              "    }\n",
              "\n",
              "    [theme=dark] .colab-df-convert:hover {\n",
              "      background-color: #434B5C;\n",
              "      box-shadow: 0px 1px 3px 1px rgba(0, 0, 0, 0.15);\n",
              "      filter: drop-shadow(0px 1px 2px rgba(0, 0, 0, 0.3));\n",
              "      fill: #FFFFFF;\n",
              "    }\n",
              "  </style>\n",
              "\n",
              "      <script>\n",
              "        const buttonEl =\n",
              "          document.querySelector('#df-8d2b54eb-b347-4350-8307-bc816f928dc5 button.colab-df-convert');\n",
              "        buttonEl.style.display =\n",
              "          google.colab.kernel.accessAllowed ? 'block' : 'none';\n",
              "\n",
              "        async function convertToInteractive(key) {\n",
              "          const element = document.querySelector('#df-8d2b54eb-b347-4350-8307-bc816f928dc5');\n",
              "          const dataTable =\n",
              "            await google.colab.kernel.invokeFunction('convertToInteractive',\n",
              "                                                     [key], {});\n",
              "          if (!dataTable) return;\n",
              "\n",
              "          const docLinkHtml = 'Like what you see? Visit the ' +\n",
              "            '<a target=\"_blank\" href=https://colab.research.google.com/notebooks/data_table.ipynb>data table notebook</a>'\n",
              "            + ' to learn more about interactive tables.';\n",
              "          element.innerHTML = '';\n",
              "          dataTable['output_type'] = 'display_data';\n",
              "          await google.colab.output.renderOutput(dataTable, element);\n",
              "          const docLink = document.createElement('div');\n",
              "          docLink.innerHTML = docLinkHtml;\n",
              "          element.appendChild(docLink);\n",
              "        }\n",
              "      </script>\n",
              "    </div>\n",
              "  </div>\n",
              "  "
            ]
          },
          "metadata": {},
          "execution_count": 23
        }
      ]
    },
    {
      "cell_type": "markdown",
      "source": [
        "Data Visualization"
      ],
      "metadata": {
        "id": "Ol7efkLKvdbc"
      }
    },
    {
      "cell_type": "code",
      "source": [
        "#y_true vs y_pred for training data\n",
        "plt.figure(figsize=(6,6))\n",
        "plt.scatter(Y_train,Y_train_pred)\n",
        "plt.xlabel(\"True value of training data\")\n",
        "plt.ylabel(\"Predicted value of training data\")\n",
        "plt.show()"
      ],
      "metadata": {
        "colab": {
          "base_uri": "https://localhost:8080/",
          "height": 388
        },
        "id": "gotpbRYLvfVv",
        "outputId": "5aa732e7-ca68-4b07-9d84-d218ccdbbfaa"
      },
      "execution_count": null,
      "outputs": [
        {
          "output_type": "display_data",
          "data": {
            "text/plain": [
              "<Figure size 432x432 with 1 Axes>"
            ],
            "image/png": "[encoded data removed]"
          },
          "metadata": {
            "needs_background": "light"
          }
        }
      ]
    },
    {
      "cell_type": "code",
      "source": [
        "#y_true vs y_pred for test data\n",
        "plt.figure(figsize=(6,6))\n",
        "plt.scatter(Y_test,Y_pred)\n",
        "plt.xlabel(\"True value of test data\")\n",
        "plt.ylabel(\"Predicted value of test data\")\n",
        "plt.show()"
      ],
      "metadata": {
        "colab": {
          "base_uri": "https://localhost:8080/",
          "height": 388
        },
        "id": "4CTGCDMzv0nH",
        "outputId": "62a96952-3ce4-4724-b618-f1f519447add"
      },
      "execution_count": null,
      "outputs": [
        {
          "output_type": "display_data",
          "data": {
            "text/plain": [
              "<Figure size 432x432 with 1 Axes>"
            ],
            "image/png": "[encoded data removed]"
          },
          "metadata": {
            "needs_background": "light"
          }
        }
      ]
    },
    {
      "cell_type": "markdown",
      "source": [
        "**Observations:**\n",
        "1. Both MinMax scaler and StandardScaler gave similar results\n",
        "2. The output variable is moderately correlated with the given predictors. This is evident from the obtained r2 score value(between 0.5-0.8)\n",
        "3. The value of various evaluation metrics for train and test data is given by:\n",
        "\n",
        "\n",
        "||Mean Squared error (MSE)|Co-efficient of determination (R2 score) |\n",
        "|:-------|:-------------------:|:----------:|\n",
        "Train data|102.421293|0.615293|\n",
        "Test data|120.744120|0.608002|\n",
        "\n"
      ],
      "metadata": {
        "id": "ES75lB9hhJbS"
      }
    }
  ]
}