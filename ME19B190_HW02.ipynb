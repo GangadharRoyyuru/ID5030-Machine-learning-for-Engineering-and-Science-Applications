{
  "nbformat": 4,
  "nbformat_minor": 0,
  "metadata": {
    "colab": {
      "provenance": []
    },
    "kernelspec": {
      "name": "python3",
      "display_name": "Python 3"
    },
    "language_info": {
      "name": "python"
    }
  },
  "cells": [
    {
      "cell_type": "code",
      "execution_count": 1,
      "metadata": {
        "id": "lunTXfxlg4Zg"
      },
      "outputs": [],
      "source": [
        "import numpy as np\n",
        "import pandas as pd\n"
      ]
    },
    {
      "cell_type": "code",
      "source": [
        "data = pd.read_excel('Concrete_Data.xls')\n",
        "data.head()"
      ],
      "metadata": {
        "colab": {
          "base_uri": "https://localhost:8080/",
          "height": 319
        },
        "id": "n_eP5B-Ng7j7",
        "outputId": "8d475a17-1b0f-4654-d7fb-bd32a3365ca4"
      },
      "execution_count": 2,
      "outputs": [
        {
          "output_type": "execute_result",
          "data": {
            "text/plain": [
              "   Cement (component 1)(kg in a m^3 mixture)  \\\n",
              "0                                      540.0   \n",
              "1                                      540.0   \n",
              "2                                      332.5   \n",
              "3                                      332.5   \n",
              "4                                      198.6   \n",
              "\n",
              "   Blast Furnace Slag (component 2)(kg in a m^3 mixture)  \\\n",
              "0                                                0.0       \n",
              "1                                                0.0       \n",
              "2                                              142.5       \n",
              "3                                              142.5       \n",
              "4                                              132.4       \n",
              "\n",
              "   Fly Ash (component 3)(kg in a m^3 mixture)  \\\n",
              "0                                         0.0   \n",
              "1                                         0.0   \n",
              "2                                         0.0   \n",
              "3                                         0.0   \n",
              "4                                         0.0   \n",
              "\n",
              "   Water  (component 4)(kg in a m^3 mixture)  \\\n",
              "0                                      162.0   \n",
              "1                                      162.0   \n",
              "2                                      228.0   \n",
              "3                                      228.0   \n",
              "4                                      192.0   \n",
              "\n",
              "   Superplasticizer (component 5)(kg in a m^3 mixture)  \\\n",
              "0                                                2.5     \n",
              "1                                                2.5     \n",
              "2                                                0.0     \n",
              "3                                                0.0     \n",
              "4                                                0.0     \n",
              "\n",
              "   Coarse Aggregate  (component 6)(kg in a m^3 mixture)  \\\n",
              "0                                             1040.0      \n",
              "1                                             1055.0      \n",
              "2                                              932.0      \n",
              "3                                              932.0      \n",
              "4                                              978.4      \n",
              "\n",
              "   Fine Aggregate (component 7)(kg in a m^3 mixture)  Age (day)  \\\n",
              "0                                              676.0         28   \n",
              "1                                              676.0         28   \n",
              "2                                              594.0        270   \n",
              "3                                              594.0        365   \n",
              "4                                              825.5        360   \n",
              "\n",
              "   Concrete compressive strength(MPa, megapascals)   \n",
              "0                                         79.986111  \n",
              "1                                         61.887366  \n",
              "2                                         40.269535  \n",
              "3                                         41.052780  \n",
              "4                                         44.296075  "
            ],
            "text/html": [
              "\n",
              "  <div id=\"df-f86a7b94-5c00-40d5-a31e-a0786084a4a8\">\n",
              "    <div class=\"colab-df-container\">\n",
              "      <div>\n",
              "<style scoped>\n",
              "    .dataframe tbody tr th:only-of-type {\n",
              "        vertical-align: middle;\n",
              "    }\n",
              "\n",
              "    .dataframe tbody tr th {\n",
              "        vertical-align: top;\n",
              "    }\n",
              "\n",
              "    .dataframe thead th {\n",
              "        text-align: right;\n",
              "    }\n",
              "</style>\n",
              "<table border=\"1\" class=\"dataframe\">\n",
              "  <thead>\n",
              "    <tr style=\"text-align: right;\">\n",
              "      <th></th>\n",
              "      <th>Cement (component 1)(kg in a m^3 mixture)</th>\n",
              "      <th>Blast Furnace Slag (component 2)(kg in a m^3 mixture)</th>\n",
              "      <th>Fly Ash (component 3)(kg in a m^3 mixture)</th>\n",
              "      <th>Water  (component 4)(kg in a m^3 mixture)</th>\n",
              "      <th>Superplasticizer (component 5)(kg in a m^3 mixture)</th>\n",
              "      <th>Coarse Aggregate  (component 6)(kg in a m^3 mixture)</th>\n",
              "      <th>Fine Aggregate (component 7)(kg in a m^3 mixture)</th>\n",
              "      <th>Age (day)</th>\n",
              "      <th>Concrete compressive strength(MPa, megapascals)</th>\n",
              "    </tr>\n",
              "  </thead>\n",
              "  <tbody>\n",
              "    <tr>\n",
              "      <th>0</th>\n",
              "      <td>540.0</td>\n",
              "      <td>0.0</td>\n",
              "      <td>0.0</td>\n",
              "      <td>162.0</td>\n",
              "      <td>2.5</td>\n",
              "      <td>1040.0</td>\n",
              "      <td>676.0</td>\n",
              "      <td>28</td>\n",
              "      <td>79.986111</td>\n",
              "    </tr>\n",
              "    <tr>\n",
              "      <th>1</th>\n",
              "      <td>540.0</td>\n",
              "      <td>0.0</td>\n",
              "      <td>0.0</td>\n",
              "      <td>162.0</td>\n",
              "      <td>2.5</td>\n",
              "      <td>1055.0</td>\n",
              "      <td>676.0</td>\n",
              "      <td>28</td>\n",
              "      <td>61.887366</td>\n",
              "    </tr>\n",
              "    <tr>\n",
              "      <th>2</th>\n",
              "      <td>332.5</td>\n",
              "      <td>142.5</td>\n",
              "      <td>0.0</td>\n",
              "      <td>228.0</td>\n",
              "      <td>0.0</td>\n",
              "      <td>932.0</td>\n",
              "      <td>594.0</td>\n",
              "      <td>270</td>\n",
              "      <td>40.269535</td>\n",
              "    </tr>\n",
              "    <tr>\n",
              "      <th>3</th>\n",
              "      <td>332.5</td>\n",
              "      <td>142.5</td>\n",
              "      <td>0.0</td>\n",
              "      <td>228.0</td>\n",
              "      <td>0.0</td>\n",
              "      <td>932.0</td>\n",
              "      <td>594.0</td>\n",
              "      <td>365</td>\n",
              "      <td>41.052780</td>\n",
              "    </tr>\n",
              "    <tr>\n",
              "      <th>4</th>\n",
              "      <td>198.6</td>\n",
              "      <td>132.4</td>\n",
              "      <td>0.0</td>\n",
              "      <td>192.0</td>\n",
              "      <td>0.0</td>\n",
              "      <td>978.4</td>\n",
              "      <td>825.5</td>\n",
              "      <td>360</td>\n",
              "      <td>44.296075</td>\n",
              "    </tr>\n",
              "  </tbody>\n",
              "</table>\n",
              "</div>\n",
              "      <button class=\"colab-df-convert\" onclick=\"convertToInteractive('df-f86a7b94-5c00-40d5-a31e-a0786084a4a8')\"\n",
              "              title=\"Convert this dataframe to an interactive table.\"\n",
              "              style=\"display:none;\">\n",
              "        \n",
              "  <svg xmlns=\"http://www.w3.org/2000/svg\" height=\"24px\"viewBox=\"0 0 24 24\"\n",
              "       width=\"24px\">\n",
              "    <path d=\"M0 0h24v24H0V0z\" fill=\"none\"/>\n",
              "    <path d=\"M18.56 5.44l.94 2.06.94-2.06 2.06-.94-2.06-.94-.94-2.06-.94 2.06-2.06.94zm-11 1L8.5 8.5l.94-2.06 2.06-.94-2.06-.94L8.5 2.5l-.94 2.06-2.06.94zm10 10l.94 2.06.94-2.06 2.06-.94-2.06-.94-.94-2.06-.94 2.06-2.06.94z\"/><path d=\"M17.41 7.96l-1.37-1.37c-.4-.4-.92-.59-1.43-.59-.52 0-1.04.2-1.43.59L10.3 9.45l-7.72 7.72c-.78.78-.78 2.05 0 2.83L4 21.41c.39.39.9.59 1.41.59.51 0 1.02-.2 1.41-.59l7.78-7.78 2.81-2.81c.8-.78.8-2.07 0-2.86zM5.41 20L4 18.59l7.72-7.72 1.47 1.35L5.41 20z\"/>\n",
              "  </svg>\n",
              "      </button>\n",
              "      \n",
              "  <style>\n",
              "    .colab-df-container {\n",
              "      display:flex;\n",
              "      flex-wrap:wrap;\n",
              "      gap: 12px;\n",
              "    }\n",
              "\n",
              "    .colab-df-convert {\n",
              "      background-color: #E8F0FE;\n",
              "      border: none;\n",
              "      border-radius: 50%;\n",
              "      cursor: pointer;\n",
              "      display: none;\n",
              "      fill: #1967D2;\n",
              "      height: 32px;\n",
              "      padding: 0 0 0 0;\n",
              "      width: 32px;\n",
              "    }\n",
              "\n",
              "    .colab-df-convert:hover {\n",
              "      background-color: #E2EBFA;\n",
              "      box-shadow: 0px 1px 2px rgba(60, 64, 67, 0.3), 0px 1px 3px 1px rgba(60, 64, 67, 0.15);\n",
              "      fill: #174EA6;\n",
              "    }\n",
              "\n",
              "    [theme=dark] .colab-df-convert {\n",
              "      background-color: #3B4455;\n",
              "      fill: #D2E3FC;\n",
              "    }\n",
              "\n",
              "    [theme=dark] .colab-df-convert:hover {\n",
              "      background-color: #434B5C;\n",
              "      box-shadow: 0px 1px 3px 1px rgba(0, 0, 0, 0.15);\n",
              "      filter: drop-shadow(0px 1px 2px rgba(0, 0, 0, 0.3));\n",
              "      fill: #FFFFFF;\n",
              "    }\n",
              "  </style>\n",
              "\n",
              "      <script>\n",
              "        const buttonEl =\n",
              "          document.querySelector('#df-f86a7b94-5c00-40d5-a31e-a0786084a4a8 button.colab-df-convert');\n",
              "        buttonEl.style.display =\n",
              "          google.colab.kernel.accessAllowed ? 'block' : 'none';\n",
              "\n",
              "        async function convertToInteractive(key) {\n",
              "          const element = document.querySelector('#df-f86a7b94-5c00-40d5-a31e-a0786084a4a8');\n",
              "          const dataTable =\n",
              "            await google.colab.kernel.invokeFunction('convertToInteractive',\n",
              "                                                     [key], {});\n",
              "          if (!dataTable) return;\n",
              "\n",
              "          const docLinkHtml = 'Like what you see? Visit the ' +\n",
              "            '<a target=\"_blank\" href=https://colab.research.google.com/notebooks/data_table.ipynb>data table notebook</a>'\n",
              "            + ' to learn more about interactive tables.';\n",
              "          element.innerHTML = '';\n",
              "          dataTable['output_type'] = 'display_data';\n",
              "          await google.colab.output.renderOutput(dataTable, element);\n",
              "          const docLink = document.createElement('div');\n",
              "          docLink.innerHTML = docLinkHtml;\n",
              "          element.appendChild(docLink);\n",
              "        }\n",
              "      </script>\n",
              "    </div>\n",
              "  </div>\n",
              "  "
            ]
          },
          "metadata": {},
          "execution_count": 2
        }
      ]
    },
    {
      "cell_type": "code",
      "source": [
        "data.columns"
      ],
      "metadata": {
        "colab": {
          "base_uri": "https://localhost:8080/"
        },
        "id": "qTztyvPsg9ZK",
        "outputId": "73bb82b0-4358-48f0-d799-3daca2bec72e"
      },
      "execution_count": 3,
      "outputs": [
        {
          "output_type": "execute_result",
          "data": {
            "text/plain": [
              "Index(['Cement (component 1)(kg in a m^3 mixture)',\n",
              "       'Blast Furnace Slag (component 2)(kg in a m^3 mixture)',\n",
              "       'Fly Ash (component 3)(kg in a m^3 mixture)',\n",
              "       'Water  (component 4)(kg in a m^3 mixture)',\n",
              "       'Superplasticizer (component 5)(kg in a m^3 mixture)',\n",
              "       'Coarse Aggregate  (component 6)(kg in a m^3 mixture)',\n",
              "       'Fine Aggregate (component 7)(kg in a m^3 mixture)', 'Age (day)',\n",
              "       'Concrete compressive strength(MPa, megapascals) '],\n",
              "      dtype='object')"
            ]
          },
          "metadata": {},
          "execution_count": 3
        }
      ]
    },
    {
      "cell_type": "code",
      "source": [
        "X = data.drop(columns = ['Concrete compressive strength(MPa, megapascals) '],axis  =1)\n",
        "y = data['Concrete compressive strength(MPa, megapascals) ']"
      ],
      "metadata": {
        "id": "N4FijJ-MhIS2"
      },
      "execution_count": 4,
      "outputs": []
    },
    {
      "cell_type": "code",
      "source": [
        "from sklearn.model_selection import train_test_split"
      ],
      "metadata": {
        "id": "4cg9BUzshIw0"
      },
      "execution_count": 5,
      "outputs": []
    },
    {
      "cell_type": "code",
      "source": [
        "X_train,X_test,Y_train,Y_test = train_test_split(X,y, test_size = 0.3)"
      ],
      "metadata": {
        "id": "wYThB9BehTdj"
      },
      "execution_count": 6,
      "outputs": []
    },
    {
      "cell_type": "markdown",
      "source": [
        "Features have inconsistent units between them, hence there is a need to normalize them to make them dimensionless and improve the performance of machine learning model"
      ],
      "metadata": {
        "id": "iH9d9YyHhfvg"
      }
    },
    {
      "cell_type": "code",
      "source": [
        "from sklearn.preprocessing import MinMaxScaler"
      ],
      "metadata": {
        "id": "iOb1T029hVcw"
      },
      "execution_count": 7,
      "outputs": []
    },
    {
      "cell_type": "code",
      "source": [
        "train = X_train.copy(deep = True)\n",
        "train['Concrete compressive strength(MPa, megapascals) '] = Y_train\n",
        "\n",
        "test = X_test.copy(deep = True)\n",
        "test['Concrete compressive strength(MPa, megapascals) '] = Y_test\n",
        "\n",
        "scaler = MinMaxScaler()\n",
        "train_scaled = pd.DataFrame(scaler.fit_transform(train), columns = train.columns)\n",
        "test_scaled  = pd.DataFrame(scaler.transform(test),columns = test.columns)\n",
        "train_scaled['const_col'] = 1\n",
        "test_scaled['const_col'] = 1"
      ],
      "metadata": {
        "id": "bxhrd5FOhXot"
      },
      "execution_count": 8,
      "outputs": []
    },
    {
      "cell_type": "code",
      "source": [
        "X_train_scaled = train_scaled.drop(columns = ['Concrete compressive strength(MPa, megapascals) '],axis  =1)\n",
        "y_train_scaled = train_scaled['Concrete compressive strength(MPa, megapascals) ']\n",
        "\n",
        "X_test_scaled = test_scaled.drop(columns = ['Concrete compressive strength(MPa, megapascals) '],axis  =1)"
      ],
      "metadata": {
        "id": "Jc_FpS2bkVXg"
      },
      "execution_count": 9,
      "outputs": []
    },
    {
      "cell_type": "markdown",
      "source": [
        "1. Write a Python program to solve the linear regression problem using the\n",
        "Normal Equations approach. Compare your results with the results you\n",
        "obtained in the last homework assignment.\n"
      ],
      "metadata": {
        "id": "SPThJu1TlLPU"
      }
    },
    {
      "cell_type": "code",
      "source": [
        "#implementation of Normal equation\n",
        "X = np.array(X_train_scaled)\n",
        "\n",
        "#Assuming linear model, we have to first caluculate coefficients\n",
        "# W = (X^TX)^(-1). X^T. y\n",
        "Xt = np.transpose(X)\n",
        "a = np.dot(Xt, X)\n",
        "W = np.linalg.multi_dot([np.linalg.inv(a),Xt,y_train_scaled])"
      ],
      "metadata": {
        "id": "_v6we85QkWTW"
      },
      "execution_count": 10,
      "outputs": []
    },
    {
      "cell_type": "code",
      "source": [
        "W"
      ],
      "metadata": {
        "colab": {
          "base_uri": "https://localhost:8080/"
        },
        "id": "HyBW6U0CkY1z",
        "outputId": "387acf3c-0dca-4287-8002-12705570cdff"
      },
      "execution_count": 11,
      "outputs": [
        {
          "output_type": "execute_result",
          "data": {
            "text/plain": [
              "array([ 0.68883891,  0.50258511,  0.22908319, -0.14383944,  0.15357082,\n",
              "        0.12371383,  0.13888219,  0.52331161, -0.17633223])"
            ]
          },
          "metadata": {},
          "execution_count": 11
        }
      ]
    },
    {
      "cell_type": "markdown",
      "source": [
        "**Premilinary observation:**\n",
        "\n",
        "As all the weights are approximately in the same range, the model that has been fitted is stable and might not have suffered from overfitting(it might very well under fit)."
      ],
      "metadata": {
        "id": "YXo14sePkaor"
      }
    },
    {
      "cell_type": "code",
      "source": [
        "train_scaled_dup =train_scaled.drop(columns = ['const_col'],axis =1)\n",
        "test_scaled_dup = test_scaled.drop(columns = ['const_col'], axis =1)\n"
      ],
      "metadata": {
        "id": "a6D5PdjDkZu0"
      },
      "execution_count": 12,
      "outputs": []
    },
    {
      "cell_type": "code",
      "source": [
        "def return_predictions(X,W,scaler,train_scaled_dup):\n",
        "  y_train_predicted = np.dot(X,W)\n",
        "  #perform inverse transform\n",
        "\n",
        "  train_scaled_dup['Concrete compressive strength(MPa, megapascals) '] = y_train_predicted\n",
        "\n",
        "  y_train_predicted = pd.DataFrame(scaler.inverse_transform(train_scaled_dup),columns = train_scaled_dup.columns)['Concrete compressive strength(MPa, megapascals) ']\n",
        "  return y_train_predicted"
      ],
      "metadata": {
        "id": "OfT6bo9hphmk"
      },
      "execution_count": 13,
      "outputs": []
    },
    {
      "cell_type": "code",
      "source": [
        "from sklearn.metrics import mean_squared_error\n",
        "from sklearn.metrics import r2_score\n",
        "\n",
        "#performing inverse transform on train data\n",
        "y_train_predicted = return_predictions(X,W,scaler,train_scaled_dup)\n",
        "mse = mean_squared_error(Y_train,y_train_predicted)\n",
        "r2 = r2_score(Y_train,y_train_predicted)\n",
        "print(\"Mean Squred error for train data: \", mse)\n",
        "print(\"Coefficient of determination(R2 score) for train data: \",r2)"
      ],
      "metadata": {
        "colab": {
          "base_uri": "https://localhost:8080/"
        },
        "id": "8qWQ8ugWleSv",
        "outputId": "baf88820-3115-49f7-9938-2ceb06b2ef9a"
      },
      "execution_count": 14,
      "outputs": [
        {
          "output_type": "stream",
          "name": "stdout",
          "text": [
            "Mean Squred error for train data:  112.37588029549325\n",
            "Coefficient of determination(R2 score) for train data:  0.5961486092683804\n"
          ]
        }
      ]
    },
    {
      "cell_type": "code",
      "source": [
        "#Predictions on test data\n",
        "X_test  = np.array(X_test_scaled)\n",
        "y_test_predicted  = np.dot(X_test,W)\n",
        "\n",
        "#perform inverse transform on test data\n",
        "\n",
        "y_test_predicted = return_predictions(X_test,W,scaler,test_scaled_dup)\n",
        "mse = mean_squared_error(Y_test,y_test_predicted)\n",
        "r2 = r2_score(Y_test,y_test_predicted)\n",
        "print(\"Mean Squred error for test data: \", mse)\n",
        "print(\"Coefficient of determination(R2 score) for test data: \",r2) "
      ],
      "metadata": {
        "colab": {
          "base_uri": "https://localhost:8080/"
        },
        "id": "XRlFb73-lh6K",
        "outputId": "9de17e32-a6db-44fb-cbc2-12093ae1d523"
      },
      "execution_count": 15,
      "outputs": [
        {
          "output_type": "stream",
          "name": "stdout",
          "text": [
            "Mean Squred error for test data:  96.69320796447991\n",
            "Coefficient of determination(R2 score) for test data:  0.6547271226297383\n"
          ]
        }
      ]
    },
    {
      "cell_type": "markdown",
      "source": [
        "Thus, the errors are in the same order of magnitude and as the previous assigment. Thus, both the normal equation approach and linear regression approach in the previous assignments gave similar results"
      ],
      "metadata": {
        "id": "y6IfPQ9fGZDp"
      }
    },
    {
      "cell_type": "markdown",
      "source": [
        "2. Introduce L2 regularization into the model and solve this for various values\n",
        "of the regularization parameter.\n",
        "\n",
        "    a. Do your results improve or degrade in quality?\n",
        "\n",
        "    b. Explain the increase or decrease in quality obtained in part a in a\n",
        "    sentence or two.\n"
      ],
      "metadata": {
        "id": "w5hsZ3fxl1jG"
      }
    },
    {
      "cell_type": "code",
      "source": [
        "r2_train = []\n",
        "r2_test  = []\n",
        "mse_train = []\n",
        "mse_test  = []\n",
        "alphas = [1e-3,1e-2,1e-1,1,10,100]\n",
        "for a in  [1e-3,1e-2,1e-1,1,10,100]:\n",
        "  #implementation of Normal equation\n",
        "  X = np.array(X_train_scaled)\n",
        "\n",
        "  #Assuming linear model, we have to first caluculate coefficients\n",
        "  # W = (X^TX+ lamda*I)^(-1). X^T. y\n",
        "  Xt = np.transpose(X)\n",
        "  mat  = np.dot(Xt, X)\n",
        "  lamdaI = a*np.identity(mat.shape[0])\n",
        "  mat = mat+lamdaI\n",
        "  W = np.linalg.multi_dot([np.linalg.inv(mat),Xt,y_train_scaled])\n",
        "  y_train_predicted = return_predictions(np.array(X_train_scaled),W,scaler,train_scaled_dup) \n",
        "  \n",
        "  r2_train.append(r2_score(Y_train,y_train_predicted))\n",
        "  mse_train.append(mean_squared_error(Y_train,y_train_predicted))\n",
        "\n",
        "  y_test_predicted  = return_predictions(np.array(X_test_scaled), W, scaler,test_scaled_dup)\n",
        "  mse_test.append(mean_squared_error(Y_test,y_test_predicted))\n",
        "  r2_test.append(r2_score(Y_test,y_test_predicted))"
      ],
      "metadata": {
        "id": "9FOWN8GjlySj"
      },
      "execution_count": 16,
      "outputs": []
    },
    {
      "cell_type": "markdown",
      "source": [
        "Visualization of Train and Test error for different values of regularization parameter..."
      ],
      "metadata": {
        "id": "aOfZrqdvmfFt"
      }
    },
    {
      "cell_type": "code",
      "source": [
        "import matplotlib.pyplot as plt\n",
        "alpha = [-3,-2,-1,0,1,2]\n",
        "plt.figure(figsize = (6,6))\n",
        "plt.plot(alpha, mse_train, label = 'Train')\n",
        "plt.plot(alpha, mse_test, label = 'Test')\n",
        "plt.legend()\n",
        "plt.xlabel(\"Regularization parameter on log scale (log(alpha)) \")\n",
        "plt.ylabel(\"Mean squared error\")\n",
        "plt.show()\n",
        "\n",
        "\n",
        "plt.figure(figsize = (6,6))\n",
        "plt.plot(alpha, r2_train, label = 'Train')\n",
        "plt.plot(alpha, r2_test, label = 'Test')\n",
        "plt.legend()\n",
        "plt.xlabel(\"Regularization parameter on log scale (log(alpha)) \")\n",
        "plt.ylabel(\"Coefficient of determination(R2 score)\")\n",
        "plt.show()\n",
        "\n"
      ],
      "metadata": {
        "colab": {
          "base_uri": "https://localhost:8080/",
          "height": 759
        },
        "id": "C5UfBCSjmfhs",
        "outputId": "9c641155-9e90-4a98-d403-94e84ff0e42f"
      },
      "execution_count": 17,
      "outputs": [
        {
          "output_type": "display_data",
          "data": {
            "text/plain": [
              "<Figure size 432x432 with 1 Axes>"
            ],
            "image/png": "[encoded data removed]"
          },
          "metadata": {
            "needs_background": "light"
          }
        },
        {
          "output_type": "display_data",
          "data": {
            "text/plain": [
              "<Figure size 432x432 with 1 Axes>"
            ],
            "image/png": "[encoded data removed]"
          },
          "metadata": {
            "needs_background": "light"
          }
        }
      ]
    },
    {
      "cell_type": "code",
      "source": [
        "#best alpha is the argmin(mse_test)\n",
        "index = mse_test.index(min(mse_test))\n",
        "best_alpha = alphas[index]\n",
        "print(\"Best regularization parameter is: \",best_alpha)\n",
        "print(\"r2 score at best regularization parameter is: \", max(r2_test))\n",
        "print(\"Mean sqaured error at best regularization parameter is: \", min(mse_test))"
      ],
      "metadata": {
        "colab": {
          "base_uri": "https://localhost:8080/"
        },
        "id": "myzoriPvmhm2",
        "outputId": "3398fb7b-2fcf-47b8-a457-e67ec5d6ab3d"
      },
      "execution_count": 18,
      "outputs": [
        {
          "output_type": "stream",
          "name": "stdout",
          "text": [
            "Best regularization parameter is:  0.1\n",
            "r2 score at best regularization parameter is:  0.6556163333219708\n",
            "Mean sqaured error at best regularization parameter is:  96.44418569825635\n"
          ]
        }
      ]
    },
    {
      "cell_type": "markdown",
      "source": [
        "**Observations:**\n",
        "\n",
        "1. L2 regularization(Ridge regression) performed better compared to Linear regression\n",
        "2. There is a slight improvement in coefficient of determination from 0.6547271226297383 to 0.6556163333219708\n",
        "3. Mean sqaured error reduced to 96.44418569825635 from 96.69320796447991  (MPa.MPa)\n",
        "\n",
        "**Conclusion**:\n",
        "\n",
        "Although not very evident at the first sight, the feature water is highly correlated with other features. Thus L2 regularization works better than simple linear regression. L2 regularization can address multicollinearity in the data set and can reduce overfitting by not allowing the coefficient of variables to blow up."
      ],
      "metadata": {
        "id": "yo207mfDmuJ8"
      }
    },
    {
      "cell_type": "markdown",
      "source": [
        "3. **We now use a quadratic model instead of the linear model.**\n",
        "\n",
        "      a. How many features does the input have now?\n",
        "\n",
        "      b. Modify your program for this quadratic model now (without\n",
        "      regularization)\n",
        "\n",
        "      c. Do your results improve or degrade in quality?\n",
        "\n",
        "      d. How many features would you need if this was a cubic model\n",
        "      instead of quadratic? (You need not program the cubic model)"
      ],
      "metadata": {
        "id": "qmtXppNfmxl2"
      }
    },
    {
      "cell_type": "code",
      "source": [
        "#Building quadratic features...\n",
        "temp = train_scaled_dup.drop(columns = ['Concrete compressive strength(MPa, megapascals) '],axis = 1)\n",
        "X_quad = temp.copy(deep = True)\n",
        "i = 0\n",
        "n = len(temp.columns)\n",
        "for col1 in range(n):\n",
        "  for col2 in range(col1,n):\n",
        "    c1 = temp.columns[col1]\n",
        "    c2 = temp.columns[col2]\n",
        "    X_quad[str(i)] = temp[c1]*temp[c2]\n",
        "    i+=1\n",
        "X_quad['const_col'] = 1\n",
        "\n",
        "temp = test_scaled_dup.drop(columns = ['Concrete compressive strength(MPa, megapascals) '],axis = 1)\n",
        "X_test_quad = temp.copy(deep = True)\n",
        "i = 0\n",
        "for col1   in range(n):\n",
        "  for col2 in range(col1,n):\n",
        "    c1 = temp.columns[col1]\n",
        "    c2 = temp.columns[col2]\n",
        "    X_test_quad[str(i)] = temp[c1]*temp[c2]\n",
        "    i+=1\n",
        "X_test_quad['const_col'] = 1\n",
        "\n",
        "\n",
        "\n",
        "\n"
      ],
      "metadata": {
        "id": "2UZRQtI8mroR"
      },
      "execution_count": 19,
      "outputs": []
    },
    {
      "cell_type": "code",
      "source": [
        "X_quad.shape"
      ],
      "metadata": {
        "colab": {
          "base_uri": "https://localhost:8080/"
        },
        "id": "8olml5y37Cfv",
        "outputId": "f6916421-515f-43d2-dacd-c52206c4e534"
      },
      "execution_count": 20,
      "outputs": [
        {
          "output_type": "execute_result",
          "data": {
            "text/plain": [
              "(721, 45)"
            ]
          },
          "metadata": {},
          "execution_count": 20
        }
      ]
    },
    {
      "cell_type": "markdown",
      "source": [
        "Solving for the coefficients of the quadratic model using normal eqation.."
      ],
      "metadata": {
        "id": "-gxdixMontZC"
      }
    },
    {
      "cell_type": "code",
      "source": [
        "X = np.array(X_quad)\n",
        "\n",
        "# W = (X^TX)^(-1). X^T. y\n",
        "Xt = np.transpose(X)\n",
        "a = np.dot(Xt, X)\n",
        "W_quad = np.linalg.multi_dot([np.linalg.inv(a),Xt,y_train_scaled])"
      ],
      "metadata": {
        "id": "fiL_lDR6nJjv"
      },
      "execution_count": 21,
      "outputs": []
    },
    {
      "cell_type": "code",
      "source": [
        "W_quad"
      ],
      "metadata": {
        "colab": {
          "base_uri": "https://localhost:8080/"
        },
        "id": "aZ4MeYQW5RZu",
        "outputId": "9554acf5-d698-43b8-d14e-172061a7dff0"
      },
      "execution_count": 22,
      "outputs": [
        {
          "output_type": "execute_result",
          "data": {
            "text/plain": [
              "array([ 4.441626  ,  3.38114461,  1.50544258,  7.9776871 ,  5.0007047 ,\n",
              "        3.51229701,  5.99363099,  0.73830662, -0.5215232 , -0.6231956 ,\n",
              "        0.02297939, -3.38041733, -2.45865434, -0.84414671, -1.79840668,\n",
              "        0.51429925, -0.41661239,  0.1544281 , -2.54260768, -1.8579401 ,\n",
              "       -0.88029766, -1.38248552,  0.77969198,  0.08438289, -1.77321567,\n",
              "       -1.93433038, -0.22688712, -0.4908927 ,  0.78293912, -2.2448264 ,\n",
              "       -1.95372859, -2.97178946, -4.0930932 ,  0.09759342, -0.55591852,\n",
              "       -1.59423373, -2.17496747,  0.43431908, -0.45431311, -1.63527021,\n",
              "       -0.13688252, -1.81590546,  0.50078075, -1.03714199, -5.85030301])"
            ]
          },
          "metadata": {},
          "execution_count": 22
        }
      ]
    },
    {
      "cell_type": "markdown",
      "source": [
        "**Observation:**\n",
        " \n",
        " Since the coefficients did not blow up, we can say our model did not overfit on the training data set."
      ],
      "metadata": {
        "id": "F6RxpcTU90Lf"
      }
    },
    {
      "cell_type": "code",
      "source": [
        "y_train_predicted = return_predictions(np.array(X_quad),W_quad,scaler,train_scaled_dup) \n",
        "  \n",
        "print(\"Coefficient of determination for train data is: \",r2_score(Y_train,y_train_predicted))\n",
        "print(\"Mean squared error for the train data is: \",mean_squared_error(Y_train,y_train_predicted))\n",
        "\n",
        "\n",
        "y_test_predicted = return_predictions(np.array(X_test_quad),W_quad,scaler,test_scaled_dup) \n",
        "  \n",
        "print(\"Coefficient of determination for test data is: \",r2_score(Y_test,y_test_predicted))\n",
        "print(\"Mean squared error for the test data is: \",mean_squared_error(Y_test,y_test_predicted))"
      ],
      "metadata": {
        "id": "G2a_p44voGdG",
        "colab": {
          "base_uri": "https://localhost:8080/"
        },
        "outputId": "02756eed-ffbd-4957-fe33-41b86e918202"
      },
      "execution_count": 23,
      "outputs": [
        {
          "output_type": "stream",
          "name": "stdout",
          "text": [
            "Coefficient of determination for train data is:  0.8136945008128005\n",
            "Mean squared error for the train data is:  51.84145692088523\n",
            "Coefficient of determination for test data is:  0.7796815481933183\n",
            "Mean squared error for the test data is:  61.69988804568226\n"
          ]
        }
      ]
    },
    {
      "cell_type": "markdown",
      "source": [
        "Thus,\n",
        "\n",
        "3a. The input has **45** features if the model is quadratic\n",
        "\n",
        "3b. The code has been implemented \n",
        "\n",
        "3c. The quadratic model performed far better compared to the linear model. Thus, our results improved in quality\n",
        "\n",
        "3d. If we try to implement a cubic model the feature matrix will have **165** features. In general, the formula for number of features of the input matrix is given by (d+k)Cₖ, where d is the degree of the polynomial and k is number of original features   "
      ],
      "metadata": {
        "id": "5R0YHJDRAcwH"
      }
    },
    {
      "cell_type": "markdown",
      "source": [
        "The below table summarizes the performance of linear model, L2 regularization and Quadratic model on test data\n",
        "\n",
        "**Mean squared error:**\n",
        "\n",
        "|Linear Model|L2 Regularization| Quadratic model|\n",
        "|:-------|:-------------------:|:---------------|\n",
        "|96.69320796447991|96.44418569825635|61.69988804568226|\n",
        "\n",
        "\n",
        "**Coefficient of determination(R2 score)**\n",
        "\n",
        "|Linear Model|L2 Regularization| Quadratic model|\n",
        "|:-------|:-------------------:|:---------------|\n",
        "|0.6547|0.6556|0.7796|"
      ],
      "metadata": {
        "id": "OdGYBPMQC-97"
      }
    }
  ]
}